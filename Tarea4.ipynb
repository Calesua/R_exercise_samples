{
 "cells": [
  {
   "cell_type": "markdown",
   "metadata": {},
   "source": [
    "Vamos a trabajar con la tabla de datos\n",
    "airquality\n",
    "ya utilizada en la Tarea 1 para realizar varios contrastes de hipótesis. Cargar en primer lugar dichos datos y\n",
    "pasar las temperaturas a Kelvin."
   ]
  },
  {
   "cell_type": "code",
   "execution_count": 4,
   "metadata": {},
   "outputs": [],
   "source": [
    "#Pasamos de grados Farenheit a Kelvin:\n",
    "airqualityKelvin <- data.frame(airquality[-(4)])   #Quita la cuarta columna (Temp)\n",
    "TempKelvin <- (airquality[4]-32)*(5/9)+273.15           #Se pasa a Kelvin\n",
    "airqualityKelvin <- data.frame(airqualityKelvin[1:3],Temp=TempKelvin,airqualityKelvin[4:5]) #data frame con Temp en Kelvin                         "
   ]
  },
  {
   "cell_type": "markdown",
   "metadata": {},
   "source": [
    "### 1) \n",
    "¿Cómo podríamos obtener, con una única instrucción en R, una tabla que nos diese latemperatura media en cada uno de los 5 meses incluídos en los datos? Escribir dicha instrucción(sin usar \";\")."
   ]
  },
  {
   "cell_type": "code",
   "execution_count": 5,
   "metadata": {},
   "outputs": [
    {
     "name": "stdout",
     "output_type": "stream",
     "text": [
      "Las medias mensuales son:\n"
     ]
    },
    {
     "data": {
      "text/html": [
       "<dl class=dl-horizontal>\n",
       "\t<dt>5</dt>\n",
       "\t\t<dd>291.787992831541</dd>\n",
       "\t<dt>6</dt>\n",
       "\t\t<dd>299.316666666667</dd>\n",
       "\t<dt>7</dt>\n",
       "\t\t<dd>301.985125448029</dd>\n",
       "\t<dt>8</dt>\n",
       "\t\t<dd>302.020967741935</dd>\n",
       "\t<dt>9</dt>\n",
       "\t\t<dd>298.094444444444</dd>\n",
       "</dl>\n"
      ],
      "text/latex": [
       "\\begin{description*}\n",
       "\\item[5] 291.787992831541\n",
       "\\item[6] 299.316666666667\n",
       "\\item[7] 301.985125448029\n",
       "\\item[8] 302.020967741935\n",
       "\\item[9] 298.094444444444\n",
       "\\end{description*}\n"
      ],
      "text/markdown": [
       "5\n",
       ":   291.7879928315416\n",
       ":   299.3166666666677\n",
       ":   301.9851254480298\n",
       ":   302.0209677419359\n",
       ":   298.094444444444\n",
       "\n"
      ],
      "text/plain": [
       "       5        6        7        8        9 \n",
       "291.7880 299.3167 301.9851 302.0210 298.0944 "
      ]
     },
     "metadata": {},
     "output_type": "display_data"
    }
   ],
   "source": [
    "mediames <- tapply(airqualityKelvin$Temp,airqualityKelvin$Month,mean,na.rm=TRUE,simplify=TRUE) #na.rm ignoraría los NA\n",
    "#aplica media sobre el conjunto de datos que lleven asociado el mismo valor en la categoría Month\n",
    "cat('Las medias mensuales son:\\n')\n",
    "mediames"
   ]
  },
  {
   "cell_type": "markdown",
   "metadata": {},
   "source": [
    "### 2)\n",
    "Hacer y subir al campus virtual (en formato pdf) un diagrama de tipo box-and-whisker endonde se comparen las distribuciones de temperatura en función del mes."
   ]
  },
  {
   "cell_type": "code",
   "execution_count": 6,
   "metadata": {
    "scrolled": false
   },
   "outputs": [
    {
     "data": {
      "text/html": [
       "<ol class=list-inline>\n",
       "\t<li>292.594444444444</li>\n",
       "\t<li>295.372222222222</li>\n",
       "\t<li>296.483333333333</li>\n",
       "\t<li>289.816666666667</li>\n",
       "\t<li>286.483333333333</li>\n",
       "\t<li>292.038888888889</li>\n",
       "\t<li>291.483333333333</li>\n",
       "\t<li>288.15</li>\n",
       "\t<li>289.261111111111</li>\n",
       "\t<li>293.705555555556</li>\n",
       "\t<li>296.483333333333</li>\n",
       "\t<li>293.705555555556</li>\n",
       "\t<li>292.038888888889</li>\n",
       "\t<li>293.15</li>\n",
       "\t<li>287.594444444444</li>\n",
       "\t<li>290.927777777778</li>\n",
       "\t<li>292.038888888889</li>\n",
       "\t<li>287.038888888889</li>\n",
       "\t<li>293.15</li>\n",
       "\t<li>289.816666666667</li>\n",
       "\t<li>288.15</li>\n",
       "\t<li>295.927777777778</li>\n",
       "\t<li>289.261111111111</li>\n",
       "\t<li>289.261111111111</li>\n",
       "\t<li>287.038888888889</li>\n",
       "\t<li>287.594444444444</li>\n",
       "\t<li>287.038888888889</li>\n",
       "\t<li>292.594444444444</li>\n",
       "\t<li>300.372222222222</li>\n",
       "\t<li>299.261111111111</li>\n",
       "\t<li>297.594444444444</li>\n",
       "</ol>\n"
      ],
      "text/latex": [
       "\\begin{enumerate*}\n",
       "\\item 292.594444444444\n",
       "\\item 295.372222222222\n",
       "\\item 296.483333333333\n",
       "\\item 289.816666666667\n",
       "\\item 286.483333333333\n",
       "\\item 292.038888888889\n",
       "\\item 291.483333333333\n",
       "\\item 288.15\n",
       "\\item 289.261111111111\n",
       "\\item 293.705555555556\n",
       "\\item 296.483333333333\n",
       "\\item 293.705555555556\n",
       "\\item 292.038888888889\n",
       "\\item 293.15\n",
       "\\item 287.594444444444\n",
       "\\item 290.927777777778\n",
       "\\item 292.038888888889\n",
       "\\item 287.038888888889\n",
       "\\item 293.15\n",
       "\\item 289.816666666667\n",
       "\\item 288.15\n",
       "\\item 295.927777777778\n",
       "\\item 289.261111111111\n",
       "\\item 289.261111111111\n",
       "\\item 287.038888888889\n",
       "\\item 287.594444444444\n",
       "\\item 287.038888888889\n",
       "\\item 292.594444444444\n",
       "\\item 300.372222222222\n",
       "\\item 299.261111111111\n",
       "\\item 297.594444444444\n",
       "\\end{enumerate*}\n"
      ],
      "text/markdown": [
       "1. 292.594444444444\n",
       "2. 295.372222222222\n",
       "3. 296.483333333333\n",
       "4. 289.816666666667\n",
       "5. 286.483333333333\n",
       "6. 292.038888888889\n",
       "7. 291.483333333333\n",
       "8. 288.15\n",
       "9. 289.261111111111\n",
       "10. 293.705555555556\n",
       "11. 296.483333333333\n",
       "12. 293.705555555556\n",
       "13. 292.038888888889\n",
       "14. 293.15\n",
       "15. 287.594444444444\n",
       "16. 290.927777777778\n",
       "17. 292.038888888889\n",
       "18. 287.038888888889\n",
       "19. 293.15\n",
       "20. 289.816666666667\n",
       "21. 288.15\n",
       "22. 295.927777777778\n",
       "23. 289.261111111111\n",
       "24. 289.261111111111\n",
       "25. 287.038888888889\n",
       "26. 287.594444444444\n",
       "27. 287.038888888889\n",
       "28. 292.594444444444\n",
       "29. 300.372222222222\n",
       "30. 299.261111111111\n",
       "31. 297.594444444444\n",
       "\n",
       "\n"
      ],
      "text/plain": [
       " [1] 292.5944 295.3722 296.4833 289.8167 286.4833 292.0389 291.4833 288.1500\n",
       " [9] 289.2611 293.7056 296.4833 293.7056 292.0389 293.1500 287.5944 290.9278\n",
       "[17] 292.0389 287.0389 293.1500 289.8167 288.1500 295.9278 289.2611 289.2611\n",
       "[25] 287.0389 287.5944 287.0389 292.5944 300.3722 299.2611 297.5944"
      ]
     },
     "metadata": {},
     "output_type": "display_data"
    },
    {
     "data": {
      "image/png": "[encoded data removed]",
      "text/plain": [
       "plot without title"
      ]
     },
     "metadata": {},
     "output_type": "display_data"
    }
   ],
   "source": [
    "vec5 <- airqualityKelvin$Temp[airquality$Month==5] #Vectores con las temperaturas para cada mes\n",
    "vec6 <- airqualityKelvin$Temp[airquality$Month==6]\n",
    "vec7 <- airqualityKelvin$Temp[airquality$Month==7]\n",
    "vec8 <- airqualityKelvin$Temp[airquality$Month==8]\n",
    "vec9 <- airqualityKelvin$Temp[airquality$Month==9]\n",
    "#Hacemos el gráfico tipo box-and-whisker\n",
    "boxplot(vec5,vec6,vec7,vec8,vec9,col=c('#CD0BBC','#2297E6','green3','yellow','#DF536B'),names=c('5','6','7','8','9'),horizontal=TRUE,ylab='Mes',xlab='Temperatura (K)')"
   ]
  },
  {
   "cell_type": "markdown",
   "metadata": {},
   "source": [
    "### 3)\n",
    "Seleccionar las temperaturas para los días de los tres meses más cálidos\n",
    "(junio, julio yagosto)\n",
    "y guardar los datos en una nueva variable llamada\n",
    "T.verano\n",
    ". Suponiendo que las medidas de\n",
    "T.verano\n",
    "siguen una distribución normal:"
   ]
  },
  {
   "cell_type": "code",
   "execution_count": 4,
   "metadata": {},
   "outputs": [
    {
     "data": {
      "text/html": [
       "<dl class=dl-horizontal>\n",
       "\t<dt>8</dt>\n",
       "\t\t<dd>302.020967741935</dd>\n",
       "\t<dt>7</dt>\n",
       "\t\t<dd>301.985125448029</dd>\n",
       "\t<dt>6</dt>\n",
       "\t\t<dd>299.316666666667</dd>\n",
       "\t<dt>9</dt>\n",
       "\t\t<dd>298.094444444444</dd>\n",
       "\t<dt>5</dt>\n",
       "\t\t<dd>291.787992831541</dd>\n",
       "</dl>\n"
      ],
      "text/latex": [
       "\\begin{description*}\n",
       "\\item[8] 302.020967741935\n",
       "\\item[7] 301.985125448029\n",
       "\\item[6] 299.316666666667\n",
       "\\item[9] 298.094444444444\n",
       "\\item[5] 291.787992831541\n",
       "\\end{description*}\n"
      ],
      "text/markdown": [
       "8\n",
       ":   302.0209677419357\n",
       ":   301.9851254480296\n",
       ":   299.3166666666679\n",
       ":   298.0944444444445\n",
       ":   291.787992831541\n",
       "\n"
      ],
      "text/plain": [
       "       8        7        6        9        5 \n",
       "302.0210 301.9851 299.3167 298.0944 291.7880 "
      ]
     },
     "metadata": {},
     "output_type": "display_data"
    }
   ],
   "source": [
    "sortmediames<- sort(mediames,decreasing=TRUE) # Ordena los meses según su temperatura media de manera decreciente\n",
    "sortmediames\n",
    "\n",
    "nummes <- as.numeric(names(sortmediames))     # Crea un vector con los números de mes de los meses ordenados\n",
    "\n",
    "T.verano <- as.numeric()\n",
    "for (i in nummes[1:3]){                       # Sólo se toman los 3 meses más cálidos\n",
    "    T.verano <- c(T.verano,airqualityKelvin$Temp[airqualityKelvin$Month==i])\n",
    "}                                             #Vector con las temperaturas de esos 3 meses"
   ]
  },
  {
   "cell_type": "markdown",
   "metadata": {},
   "source": [
    "### 3A) \n",
    "¿Es el valor medio de T.verano significativamente diferente de 300.5 K? Usar un nivel designificación de 0.05."
   ]
  },
  {
   "cell_type": "code",
   "execution_count": 5,
   "metadata": {},
   "outputs": [
    {
     "name": "stdout",
     "output_type": "stream",
     "text": [
      "Hacemos un contraste bilateral con H_0: mu=300.5=mu0 Y h_1: mu distinto de mu0=300.5.\n",
      "La media de los datos es: 301.1271 . En principio, no parece significativamente diferente. \n",
      "Como no conocemos la varianza poblacional, necesitamos calcular la desviación típica, pero usaremos el estadístico z, \n",
      "al tener una muestra mucho mayor de 30. \n",
      "El valor crítico de z es 1.959964 , mientras que nuestro estadístio vale 1.722393 por lo que se acepta la hipótesis nula \n",
      "y suponemos que el valor medio de T.verano no es significativamente diferente de  300.5 .\n"
     ]
    }
   ],
   "source": [
    "cat('Hacemos un contraste bilateral con H_0: mu=300.5=mu0 Y h_1: mu distinto de mu0=300.5.\\n')\n",
    "mu <- 300.5\n",
    "xbar <- mean(T.verano)\n",
    "cat('La media de los datos es:',xbar,'. En principio, no parece significativamente diferente.','\\n')\n",
    "cat('Como no conocemos la varianza poblacional, necesitamos calcular la desviación típica, pero usaremos el estadístico z, \n",
    "al tener una muestra mucho mayor de 30.','\\n')\n",
    "z <- (xbar-mu)/(sd(T.verano/sqrt(length(T.verano))))   #Se calcula el estadístico z\n",
    "alpha <- 0.05\n",
    "z.alpha <- qnorm(1-alpha/2)                              #Valor crítico de z\n",
    "cat('El valor crítico de z es',z.alpha,', mientras que nuestro estadístio vale',z,'por lo que se acepta la hipótesis nula \n",
    "y suponemos que el valor medio de T.verano no es significativamente diferente de ',mu,'.\\n')"
   ]
  },
  {
   "cell_type": "markdown",
   "metadata": {},
   "source": [
    "### 3B)\n",
    "¿Para qué nivel de significación mínimo (valor de\n",
    "p) es la media de\n",
    "T.verano\n",
    "significativamente diferente del valor de 300.5 K?"
   ]
  },
  {
   "cell_type": "code",
   "execution_count": 6,
   "metadata": {},
   "outputs": [
    {
     "name": "stdout",
     "output_type": "stream",
     "text": [
      "El nivel de significación con el que se rechazaría la hipótesis nula es 0.08499841 .\n"
     ]
    }
   ],
   "source": [
    "p <- 2*pnorm(z, lower.tail=FALSE)\n",
    "cat('El nivel de significación con el que se rechazaría la hipótesis nula es',p,'.\\n')"
   ]
  },
  {
   "cell_type": "markdown",
   "metadata": {},
   "source": [
    "# 3C)\n",
    "¿Es el valor medio de\n",
    "T.verano\n",
    "significativamente mayor que 300.5 K? Usar un nivel de significación de 0.05."
   ]
  },
  {
   "cell_type": "code",
   "execution_count": 7,
   "metadata": {
    "scrolled": true
   },
   "outputs": [
    {
     "name": "stdout",
     "output_type": "stream",
     "text": [
      "La hipótesis nula sería en este caso H_0 menor o igual que 300.5K y el contraste sería unilateral. \n",
      "De nuevo, usamos el estadístico z, al ser la muestra mayor a 30. \n",
      "Los valores de z y de z crítico serían 1.722393 y 1.644854 , respectivamente. Como el valor de z está en la región\n",
      "crítica, se niega la hipótesis nula, con lo que se considera que el valor medio poblacional en verano es significativamente\n",
      "mayor que 300.5 K. \n"
     ]
    }
   ],
   "source": [
    "cat('La hipótesis nula sería en este caso H_0 menor o igual que 300.5K y el contraste sería unilateral.','\\n')\n",
    "mu <- 300.5\n",
    "xbar <- mean(T.verano)\n",
    "cat('De nuevo, usamos el estadístico z, al ser la muestra mayor a 30.','\\n')\n",
    "z <- (xbar-mu)/(sd(T.verano)/sqrt(length(T.verano))) #Se calcula el estadístico z\n",
    "alpha <- 0.05\n",
    "z.alpha <- qnorm(1-alpha)   #Valor crítico de z\n",
    "cat('Los valores de z y de z crítico serían',z,'y',z.alpha,', respectivamente. Como el valor de z está en la región\n",
    "crítica, se niega la hipótesis nula, con lo que se considera que el valor medio poblacional en verano es significativamente\n",
    "mayor que 300.5 K.','\\n')"
   ]
  },
  {
   "cell_type": "markdown",
   "metadata": {},
   "source": [
    "### 3D)\n",
    "¿Para qué nivel de significación mínimo (valor de\n",
    "p) es significativamente mayor que 300.5K?"
   ]
  },
  {
   "cell_type": "code",
   "execution_count": 8,
   "metadata": {},
   "outputs": [
    {
     "name": "stdout",
     "output_type": "stream",
     "text": [
      "El nivel de significación mínimo debe ser inferior a 0.04249921 , ya que con este valor se aceptaría la hipótesis nula.\n",
      "Nótese que a menor nivel de significación, más amplia será la región de aceptación. \n"
     ]
    }
   ],
   "source": [
    "p <- pnorm(z,lower.tail=FALSE) #Nivel de significación\n",
    "cat('El nivel de significación mínimo debe ser inferior a',p,', ya que con este valor se aceptaría la hipótesis nula.\n",
    "Nótese que a menor nivel de significación, más amplia será la región de aceptación.','\\n')"
   ]
  },
  {
   "cell_type": "markdown",
   "metadata": {},
   "source": [
    "### 4)\n",
    "Siguiendo con la temperatura durante los meses de verano (T.verano), y suponiendo normalidad:"
   ]
  },
  {
   "cell_type": "markdown",
   "metadata": {},
   "source": [
    "### 4A)\n",
    "¿Puede ser la desviación típica de la población igual a un valor de 3 K? Usar un nivel designificación de 0.05."
   ]
  },
  {
   "cell_type": "code",
   "execution_count": 42,
   "metadata": {},
   "outputs": [
    {
     "name": "stdout",
     "output_type": "stream",
     "text": [
      "La desviación típica muestral es: 3.491935 K \n",
      "Haciendo un contraste bilateral con H_0: varpob(varianza poblacional)=3^2 K: \n",
      "Para aceptar la hipótesis nula se debe cumplir que ( inter1 < varpob < inter2 ), donde inter1 e inter2 son los valores críticos\n",
      "del estadístico.\n",
      "Los valores resultantes para estas variables son: \n",
      "varpob= 123.2909 \n",
      "inter1= 66.50069 \n",
      "inter2= 119.2819 \n",
      "El valor del estadístico chi^2 es superior al valor máximo de aceptación, por lo que se rechaza la hipótesis nula y\n",
      "suponemos que la desviación típica de la población debe ser distinta a 3K.\n"
     ]
    }
   ],
   "source": [
    "cat('La desviación típica muestral es:',sd(T.verano),'K','\\n')\n",
    "cat('Haciendo un contraste bilateral con H_0: varpob(varianza poblacional)=3^2 K: \\n')\n",
    "\n",
    "varpob <- (length(T.verano)-1)*var(T.verano)/3^2                    #Estadístico chi^2\n",
    "alpha <- 0.05\n",
    "inter1 <- qchisq(alpha/2,df=length(T.verano)-1)                     #Valor crítico de chi^2 por la izquierda\n",
    "inter2 <- qchisq(alpha/2,df=length(T.verano)-1,lower.tail=FALSE)    #Valor crítico de chi^2 por la derecha\n",
    "\n",
    "cat('Para aceptar la hipótesis nula se debe cumplir que ( inter1 < varpob < inter2 ), donde inter1 e inter2 son los valores críticos\n",
    "del estadístico.\\n') \n",
    "cat('Los valores resultantes para estas variables son:', '\\n')\n",
    "cat('varpob=',varpob,'\\n')\n",
    "cat('inter1=',inter1,'\\n')\n",
    "cat('inter2=',inter2,'\\n')\n",
    "cat('El valor del estadístico chi^2 es superior al valor máximo de aceptación, por lo que se rechaza la hipótesis nula y\n",
    "suponemos que la desviación típica de la población debe ser distinta a 3K.\\n')"
   ]
  },
  {
   "cell_type": "markdown",
   "metadata": {},
   "source": [
    "### 4B)\n",
    "¿Para qué nivel de significación mínimo (valor de\n",
    "p) es la desviación típica significativamente diferente de un valor de 3 K?"
   ]
  },
  {
   "cell_type": "code",
   "execution_count": 10,
   "metadata": {},
   "outputs": [
    {
     "name": "stdout",
     "output_type": "stream",
     "text": [
      "El nivel de significación mínimo para considerar la desviación típica significativamente diferente de 3K es 0.02740109 .\n"
     ]
    }
   ],
   "source": [
    "p <- 2*pchisq(varpob,length(T.verano)-1,lower.tail=FALSE)\n",
    "cat('El nivel de significación mínimo para considerar la desviación típica significativamente diferente de 3K es',p,'.\\n')"
   ]
  },
  {
   "cell_type": "markdown",
   "metadata": {},
   "source": [
    "De otro modo:"
   ]
  },
  {
   "cell_type": "code",
   "execution_count": 11,
   "metadata": {},
   "outputs": [
    {
     "name": "stdout",
     "output_type": "stream",
     "text": [
      "package 'EnvStats' successfully unpacked and MD5 sums checked\n",
      "\n",
      "The downloaded binary packages are in\n",
      "\tC:\\Users\\Cris\\AppData\\Local\\Temp\\Rtmpe42X2i\\downloaded_packages\n"
     ]
    },
    {
     "name": "stderr",
     "output_type": "stream",
     "text": [
      "Warning message:\n",
      "\"package 'EnvStats' was built under R version 3.6.3\"\n",
      "Attaching package: 'EnvStats'\n",
      "\n",
      "The following objects are masked from 'package:stats':\n",
      "\n",
      "    predict, predict.lm\n",
      "\n",
      "The following object is masked from 'package:base':\n",
      "\n",
      "    print.default\n",
      "\n"
     ]
    },
    {
     "data": {
      "text/plain": [
       "\n",
       "\tChi-Squared Test on Variance\n",
       "\n",
       "data:  T.verano\n",
       "Chi-Squared = 123.29, df = 91, p-value = 0.0274\n",
       "alternative hypothesis: true variance is not equal to 9\n",
       "95 percent confidence interval:\n",
       "  9.302487 16.685815\n",
       "sample estimates:\n",
       "variance \n",
       "12.19361 \n"
      ]
     },
     "metadata": {},
     "output_type": "display_data"
    }
   ],
   "source": [
    "install.packages(\"EnvStats\")\n",
    "library(\"EnvStats\")\n",
    "varTest(T.verano, conf.level=0.95, alternative = \"two.sided\",sigma.squared=3^2)"
   ]
  },
  {
   "cell_type": "markdown",
   "metadata": {},
   "source": [
    "### 5A)\n",
    "¿Dirías que la temperatura media del mes de julio es significativamente mayor que la del mes de junio? En caso afirmativo, ¿para qué nivel de significación?"
   ]
  },
  {
   "cell_type": "code",
   "execution_count": 12,
   "metadata": {
    "scrolled": true
   },
   "outputs": [
    {
     "name": "stdout",
     "output_type": "stream",
     "text": [
      "La diferencia entre las medias es de 2.668459 K. \n",
      "Haremos un contraste unilateral de hipótesis con H0: mu7 menor o igual que mu6, donde mu7 y mu6 son las medias de \n",
      "Julio y Junio, respectivamente y con un nivel de significación de 0.05. \n",
      "\n",
      "Los valores de z y de z crítico son 3.352967 y 1.644854 . Así que se rechaza la hipótesis nula y se puede suponer que la\n",
      "temperatura de Julio es significativamente mayor a la de Junio para el nivel 0.05 de significación. \n"
     ]
    }
   ],
   "source": [
    "MediaJulio <- mediames[names='7']  #Recuperamos las medias para esos dos meses calculadas anteriormente\n",
    "MediaJunio <- mediames[names='6']\n",
    "cat('La diferencia entre las medias es de',MediaJulio-MediaJunio,'K. \\n')\n",
    "\n",
    "var7 <- var(vec7)                  #Varianzas de los vectores de temperatura para cada mes\n",
    "var6 <- var(vec6)\n",
    "\n",
    "cat('Haremos un contraste unilateral de hipótesis con H0: mu7 menor o igual que mu6, donde mu7 y mu6 son las medias de \n",
    "Julio y Junio, respectivamente y con un nivel de significación de 0.05. \\n\\n')\n",
    "\n",
    "z <- (MediaJulio-MediaJunio)/sqrt(var7/length(vec7)+var6/length(vec6))   #Estadístico z (para N=N1+N2>30)\n",
    "\n",
    "alpha <- 0.05                                                            #Nivel de significación\n",
    "z.alpha <- qnorm(1-alpha)                                                #Valor crítico de aceptación\n",
    "\n",
    "cat('Los valores de z y de z crítico son',z,'y',z.alpha,'. Así que se rechaza la hipótesis nula y se puede suponer que la\n",
    "temperatura de Julio es significativamente mayor a la de Junio para el nivel 0.05 de significación. \\n')"
   ]
  },
  {
   "cell_type": "code",
   "execution_count": 13,
   "metadata": {},
   "outputs": [
    {
     "name": "stdout",
     "output_type": "stream",
     "text": [
      "Se puede considerar la temperatura de Julio significativamente mayor que la de Junio para un nivel de significación mínimo de 0.0003997514 .\n"
     ]
    }
   ],
   "source": [
    "#Cálculo del nivel de significación mínimo para considerar la temperatura de Julio significativamente mayor:\n",
    "p <- pnorm(z,lower.tail=FALSE)\n",
    "cat('Se puede considerar la temperatura de Julio significativamente mayor que la de Junio para un nivel de significación mínimo de',p,'.\\n')"
   ]
  },
  {
   "cell_type": "markdown",
   "metadata": {},
   "source": [
    "### 5B)\n",
    "¿Dirías que la temperatura media del mes de agosto es significativamente diferente de ladel mes de julio? En caso afirmativo, ¿para qué nivel de significación?"
   ]
  },
  {
   "cell_type": "code",
   "execution_count": 14,
   "metadata": {},
   "outputs": [
    {
     "name": "stdout",
     "output_type": "stream",
     "text": [
      "La diferencia entre las medias es de 0.03584229 K. \n",
      "Haremos un contraste bilateral de hipótesis con H0: mu8=mu7, donde mu8 y mu7 son las medias de Agosto y Julio, respectivamente\n",
      "y con un nivel de significación de 0.05. \n",
      "\n",
      "Los valores de z y de z crítico son 0.0455592 y 1.959964 . Así que se acecpta la hipótesis nula y se puede suponer que la\n",
      "temperatura de Agosto no es significativamente distinta a la de Julio para el nivel 0.05 de significación. \n"
     ]
    }
   ],
   "source": [
    "MediaAgosto <- mediames[names='8']  #Recuperamos las medias para esos dos meses calculadas anteriormente\n",
    "MediaJulio <- mediames[names='7']\n",
    "cat('La diferencia entre las medias es de',MediaAgosto-MediaJulio,'K. \\n')\n",
    "\n",
    "var8 <- var(vec7)                  #Varianzas de los vectores de temperatura para cada mes\n",
    "var7 <- var(vec6)\n",
    "\n",
    "cat('Haremos un contraste bilateral de hipótesis con H0: mu8=mu7, donde mu8 y mu7 son las medias de Agosto y Julio, respectivamente\n",
    "y con un nivel de significación de 0.05. \\n\\n')\n",
    "\n",
    "z <- (MediaAgosto-MediaJulio)/sqrt(var8/length(vec8)+var7/length(vec7))  #Estadístico z (para N=N1+N2>30)\n",
    "\n",
    "alpha <- 0.05                                                            #Nivel de significación\n",
    "z.alphamed <- qnorm(1-alpha/2)                                           #Valor crítico de aceptación\n",
    "\n",
    "cat('Los valores de z y de z crítico son',z,'y',z.alphamed,'. Así que se acecpta la hipótesis nula y se puede suponer que la\n",
    "temperatura de Agosto no es significativamente distinta a la de Julio para el nivel 0.05 de significación. \\n')"
   ]
  },
  {
   "cell_type": "code",
   "execution_count": 15,
   "metadata": {},
   "outputs": [
    {
     "name": "stdout",
     "output_type": "stream",
     "text": [
      "Se puede considerar las temperaturas de Agosto y Julio significativamente diferentes para un nivel de significación mínimo de\n",
      "p= 0.9636616 .\n"
     ]
    }
   ],
   "source": [
    "#Cálculo del nivel de significación mínimo para considerar la temperatura de Agosto significativamente diferente a la de Julio:\n",
    "p <- 2*pnorm(z,lower.tail=FALSE)\n",
    "cat('Se puede considerar las temperaturas de Agosto y Julio significativamente diferentes para un nivel de significación mínimo de\\n')\n",
    "cat('p=',p,'.\\n')"
   ]
  },
  {
   "cell_type": "markdown",
   "metadata": {},
   "source": [
    "### 6)\n",
    "Realizar un test de bondad del ajuste para comprobar si los datos de temperatura en verano(\n",
    "T.verano\n",
    ") pueden seguir una distribución normal. Según los resultados de este apartado,¿crees que podrían tener sentido los contrastes de hipótesis realizados en los apartados 3-5?"
   ]
  },
  {
   "cell_type": "code",
   "execution_count": 16,
   "metadata": {},
   "outputs": [
    {
     "data": {
      "text/plain": [
       "$breaks\n",
       " [1] 290 292 294 296 298 300 302 304 306 308 310\n",
       "\n",
       "$counts\n",
       " [1]  1  1  5  9 18 20 20  9  7  2\n",
       "\n",
       "$density\n",
       " [1] 0.005434783 0.005434783 0.027173913 0.048913043 0.097826087 0.108695652\n",
       " [7] 0.108695652 0.048913043 0.038043478 0.010869565\n",
       "\n",
       "$mids\n",
       " [1] 291 293 295 297 299 301 303 305 307 309\n",
       "\n",
       "$xname\n",
       "[1] \"T.verano\"\n",
       "\n",
       "$equidist\n",
       "[1] TRUE\n",
       "\n",
       "attr(,\"class\")\n",
       "[1] \"histogram\""
      ]
     },
     "metadata": {},
     "output_type": "display_data"
    },
    {
     "data": {
      "image/png": "[encoded data removed]",
      "text/plain": [
       "Plot with title \"Histograma T.verano y curva normal\""
      ]
     },
     "metadata": {},
     "output_type": "display_data"
    }
   ],
   "source": [
    "limites <- seq(from=290, to=310, by=2)\n",
    "histog <- hist(T.verano,breaks=limites,freq=FALSE,ylim=c(0,0.15),main='Histograma T.verano y curva normal',\n",
    "               xlab='Temperatura (K)',ylab='frecuencia relativa',xlim=c(285,315))\n",
    "histog\n",
    "curve(dnorm(x, mean=mean(T.verano), sd=sd(T.verano)), add=TRUE, type=\"l\", col=\"red\", lwd=3)"
   ]
  },
  {
   "cell_type": "code",
   "execution_count": 17,
   "metadata": {},
   "outputs": [],
   "source": [
    "# calculamos las frecuencias esperadas\n",
    "# número total de intervalos\n",
    "ninterv <- length(limites)-1\n",
    "# inicializamos vector de frecuencias relativas (probabilidades)\n",
    "p <- numeric(ninterv)\n",
    "# Rellenamos el vector para cada intervalo\n",
    "for (i in 1:ninterv) {\n",
    "    # último intervalo\n",
    "    if (i == ninterv) {\n",
    "        p[i] = pnorm(limites[i], mean=mean(T.verano), sd=sd(T.verano), lower.tail=FALSE) # cola derecha\n",
    "    } else {\n",
    "        # primer intervalo\n",
    "        if (i == 1) {\n",
    "            p[i] = pnorm(limites[i+1], mean=mean(T.verano), sd=sd(T.verano))\n",
    "            # ni primer ni último intervalo\n",
    "        } else {\n",
    "            p[i] = pnorm(limites[i+1], mean=mean(T.verano), sd=sd(T.verano))-pnorm(limites[i], mean=mean(T.verano), sd=sd(T.verano))\n",
    "        }\n",
    "    }\n",
    "}"
   ]
  },
  {
   "cell_type": "code",
   "execution_count": 18,
   "metadata": {},
   "outputs": [
    {
     "name": "stdout",
     "output_type": "stream",
     "text": [
      "La tabla con las frecuencias por intervalo, una vez aunados los de frecuencias menores a 5 es: \n"
     ]
    },
    {
     "data": {
      "text/html": [
       "<table>\n",
       "<thead><tr><th scope=col>intervalo</th><th scope=col>a_i</th><th scope=col>a_i+1</th><th scope=col>c_i</th><th scope=col>n_i</th><th scope=col>e_i</th></tr></thead>\n",
       "<tbody>\n",
       "\t<tr><td>1               </td><td>inf             </td><td>296             </td><td>293             </td><td>7               </td><td>6.53359862113974</td></tr>\n",
       "\t<tr><td>2               </td><td>296             </td><td>298             </td><td>297             </td><td>9               </td><td>10.5101339064623</td></tr>\n",
       "\t<tr><td>3               </td><td>298             </td><td>300             </td><td>299             </td><td>18              </td><td>17.3126463027868</td></tr>\n",
       "\t<tr><td>4               </td><td>300             </td><td>302             </td><td>301             </td><td>20              </td><td>20.7242284856655</td></tr>\n",
       "\t<tr><td>5               </td><td>302             </td><td>304             </td><td>303             </td><td>20              </td><td>18.0291677821802</td></tr>\n",
       "\t<tr><td>6               </td><td>304             </td><td>306             </td><td>305             </td><td>9               </td><td>11.3982398921278</td></tr>\n",
       "\t<tr><td>7               </td><td>306             </td><td>inf             </td><td>308             </td><td>9               </td><td>7.4919850096376 </td></tr>\n",
       "</tbody>\n",
       "</table>\n"
      ],
      "text/latex": [
       "\\begin{tabular}{r|llllll}\n",
       " intervalo & a\\_i & a\\_i+1 & c\\_i & n\\_i & e\\_i\\\\\n",
       "\\hline\n",
       "\t 1                & inf              & 296              & 293              & 7                & 6.53359862113974\\\\\n",
       "\t 2                & 296              & 298              & 297              & 9                & 10.5101339064623\\\\\n",
       "\t 3                & 298              & 300              & 299              & 18               & 17.3126463027868\\\\\n",
       "\t 4                & 300              & 302              & 301              & 20               & 20.7242284856655\\\\\n",
       "\t 5                & 302              & 304              & 303              & 20               & 18.0291677821802\\\\\n",
       "\t 6                & 304              & 306              & 305              & 9                & 11.3982398921278\\\\\n",
       "\t 7                & 306              & inf              & 308              & 9                & 7.4919850096376 \\\\\n",
       "\\end{tabular}\n"
      ],
      "text/markdown": [
       "\n",
       "| intervalo | a_i | a_i+1 | c_i | n_i | e_i |\n",
       "|---|---|---|---|---|---|\n",
       "| 1                | inf              | 296              | 293              | 7                | 6.53359862113974 |\n",
       "| 2                | 296              | 298              | 297              | 9                | 10.5101339064623 |\n",
       "| 3                | 298              | 300              | 299              | 18               | 17.3126463027868 |\n",
       "| 4                | 300              | 302              | 301              | 20               | 20.7242284856655 |\n",
       "| 5                | 302              | 304              | 303              | 20               | 18.0291677821802 |\n",
       "| 6                | 304              | 306              | 305              | 9                | 11.3982398921278 |\n",
       "| 7                | 306              | inf              | 308              | 9                | 7.4919850096376  |\n",
       "\n"
      ],
      "text/plain": [
       "  intervalo a_i a_i+1 c_i n_i e_i             \n",
       "1 1         inf 296   293 7   6.53359862113974\n",
       "2 2         296 298   297 9   10.5101339064623\n",
       "3 3         298 300   299 18  17.3126463027868\n",
       "4 4         300 302   301 20  20.7242284856655\n",
       "5 5         302 304   303 20  18.0291677821802\n",
       "6 6         304 306   305 9   11.3982398921278\n",
       "7 7         306 inf   308 9   7.4919850096376 "
      ]
     },
     "metadata": {},
     "output_type": "display_data"
    }
   ],
   "source": [
    "#Informacion del histograma - tabla\n",
    "inter <- histog$breaks[2]-histog$breaks[1]  #longitud del intervalo\n",
    "tfreq <- data.frame(1:length(histog$mids),histog$breaks[1:10],histog$breaks[2:11],histog$mids,histog$counts)\n",
    "names(tfreq) <- c(\"intervalo\",\"a_i\",\"a_i+1\",\"c_i\",\"n_i\")\n",
    "#las frecuencias absolutas en cada intervalo según nuestra distribución normal serán e_i=N*p_i=92*p_i\n",
    "pabs <- length(T.verano)*p\n",
    "#Agrupamos intervalos para que en cada uno haya al menos 5 elementos.\n",
    "tfreq <- cbind(tfreq,pabs) #Le añadimos al data frame una columna con las frecuencias anteriores\n",
    "names(tfreq)[6] <- \"e_i\"   #El nombre salía erroneamente\n",
    "tfreq2 <- data.frame(tfreq[c(-1,-2,-3,-9,-10),],row.names=NULL)\n",
    "tfreq2$intervalo <- c(2,3,4,5,6)\n",
    "c1 <- c(1,'inf',296,(296+290)/2,sum(tfreq$n_i[1:3]),sum(tfreq$e_i[1:3]))\n",
    "c7 <- c(7,306,'inf',(310+306)/2,sum(tfreq$n_i[9:10]),sum(tfreq$e_i[9:10]))\n",
    "tfreq3 <- rbind(c1,tfreq2,c7)\n",
    "names(tfreq3)[3] <- \"a_i+1\"\n",
    "cat('La tabla con las frecuencias por intervalo, una vez aunados los de frecuencias menores a 5 es: \\n')\n",
    "tfreq3"
   ]
  },
  {
   "cell_type": "code",
   "execution_count": 19,
   "metadata": {},
   "outputs": [],
   "source": [
    "#Necesitamos unir los tres primeros intervalos y los dos últimos:\n",
    "p5<-c(p[1]+p[2]+p[3],p[4:8],p[9]+p[10])\n",
    "#Número observado de medidas por intervalo:\n",
    "o <- histog$counts\n",
    "onew <- c(o[1]+o[2]+o[3],o[4:8],o[9]+o[10])\n",
    "#Número esperado de medidas por intervalo:\n",
    "enew <- p5*length(T.verano)\n",
    "\n",
    "#El número de intervalos será entonces k=7. Y al haber deducido los parámetros poblacionales a partir de los muestrales, el \n",
    "#número final de grados de libertad será k-p-1=7-2=4"
   ]
  },
  {
   "cell_type": "code",
   "execution_count": 20,
   "metadata": {},
   "outputs": [
    {
     "name": "stdout",
     "output_type": "stream",
     "text": [
      "Como el valor del estadístico es 1.326452 y el valor crítico de aceptación de la hipótesis 9.487729 , para un nivel de \n",
      "confianza de 0.05, se acepta la hipótesis de que los datos de temperatura en verano siguen una distribución normal. Entonces \n",
      "los contrastes de hipótesis realizados en los apartados del 3 al 5 tendrían sentido.\n"
     ]
    }
   ],
   "source": [
    "#La hipótesis nula consiste en suponer que la distribución de las temperaturas en verano siguen una distribución normal\n",
    "#El estadístico de prueba será:\n",
    "chi2 <- sum((onew-enew)^2/enew)\n",
    "#Con alpha=0.05 y 4 grados de libertad, el valor crítico del estadístico es:\n",
    "chi2.alpha <- qchisq(0.05,df=4,lower.tail=FALSE)\n",
    "\n",
    "cat('Como el valor del estadístico es',chi2,'y el valor crítico de aceptación de la hipótesis',chi2.alpha,', para un nivel de \n",
    "confianza de 0.05, se acepta la hipótesis de que los datos de temperatura en verano siguen una distribución normal. Entonces \n",
    "los contrastes de hipótesis realizados en los apartados del 3 al 5 tendrían sentido.\\n')"
   ]
  },
  {
   "cell_type": "markdown",
   "metadata": {},
   "source": [
    "### 7)\n",
    "Volver a usar la temperatura considerando todos los meses para los que hay datos. Hacer un\n",
    "análisis de varianza para determinar si hay relación entre la temperatura media y el mes ¿Qué\n",
    "valores se obtienen para: A) el cuadrado medio de los tratamientos; B) el cuadrado medio del\n",
    "azar; C) el nivel de significación para el que se puede rechazar la hipotesis nula de igualdad de\n",
    "medias?"
   ]
  },
  {
   "cell_type": "code",
   "execution_count": 33,
   "metadata": {},
   "outputs": [
    {
     "name": "stdout",
     "output_type": "stream",
     "text": [
      "La hipótesis nula es que los efectos producidos por los tratamientos no son significativamente diferentes. \n",
      "El cuadrado medio de los tratamientos es 544.8401  y el cuadrado medio del azar 13.67358 , que es menor, por lo que\n",
      "esperaríamos que la hipótesis no se cumpliera y la variación entre tratamientos no se debiera al azar. En ese caso\n",
      "existiría una relación entre temperatura media y mes.\n"
     ]
    },
    {
     "data": {
      "text/plain": [
       "             Df Sum Sq Mean Sq F value Pr(>F)    \n",
       "fmeses        4   2179   544.8   39.85 <2e-16 ***\n",
       "Residuals   148   2024    13.7                   \n",
       "---\n",
       "Signif. codes:  0 '***' 0.001 '**' 0.01 '*' 0.05 '.' 0.1 ' ' 1"
      ]
     },
     "metadata": {},
     "output_type": "display_data"
    },
    {
     "name": "stdout",
     "output_type": "stream",
     "text": [
      "Se aceptaría la hipótesis de igualdad de medias de temperatura entre los meses para un nivel de significación de 2e-16.\n",
      "Si usaramos un nivel de significación de 0.05, podríamos hacer el \n",
      "El valor del estadístico F y su valor crítico son 39.84619 y 2.432788 , por lo que se debe rechazar la hipótesis nula\n",
      "y considerar que sí existe una relación entre la temperatura media y el mes. \n"
     ]
    }
   ],
   "source": [
    "cat('La hipótesis nula es que los efectos producidos por los tratamientos no son significativamente diferentes. \\n')\n",
    "nt <- nrow(airqualityKelvin)\n",
    "fmeses <- factor(airqualityKelvin$Month) #factor de los meses\n",
    "p <- length(levels(fmeses))\n",
    "C <- (sum(airqualityKelvin$Temp))^2/nt\n",
    "VT <- sum(airqualityKelvin$Temp^2)-C     #Variación total\n",
    "T <- tapply(airqualityKelvin$Temp, fmeses, sum)\n",
    "n <- tapply(airqualityKelvin$Temp, fmeses, length)\n",
    "VET <- sum(T^2/n)-C                      #Variación entre tratamientos\n",
    "VDT <- VT - VET                          #Variación dentro de los tratamientos\n",
    "MT <- VET/(p-1)                          #Cuadrado medio de los tratamientos\n",
    "ME <- VDT/(nt-p)                         #Cuadrado medio del azar\n",
    "cat('El cuadrado medio de los tratamientos es',MT,' y el cuadrado medio del azar',ME,', que es menor, por lo que\n",
    "esperaríamos que la hipótesis no se cumpliera y la variación entre tratamientos no se debiera al azar. En ese caso\n",
    "existiría una relación entre temperatura media y mes.\\n')\n",
    "\n",
    "\n",
    "#Hallamos el nivel de significación para el que se puede rechazar la hipótesis nula mediante la función aov\n",
    "mianova <- aov(airqualityKelvin$Temp ~ fmeses)\n",
    "sumario <- summary(mianova)\n",
    "sumario\n",
    "cat('Se aceptaría la hipótesis de igualdad de medias de temperatura entre los meses para un nivel de significación de 2e-16.\\n')\n",
    "\n",
    "\n",
    "cat('Si usaramos un nivel de significación de 0.05, podríamos hacer el \\n')\n",
    "F <- MT/ME                               #Estadístico de Fisher\n",
    "alpha <- 0.05                            #nivel de significación\n",
    "Fcrit <- qf(alpha, df1=p-1, df2=nt-p, lower.tail=FALSE)\n",
    "cat('El valor del estadístico F y su valor crítico son',F,'y',Fcrit,', por lo que se debe rechazar la hipótesis nula\n",
    "y considerar que sí existe una relación entre la temperatura media y el mes. \\n')"
   ]
  }
 ],
 "metadata": {
  "kernelspec": {
   "display_name": "R",
   "language": "R",
   "name": "ir"
  },
  "language_info": {
   "codemirror_mode": "r",
   "file_extension": ".r",
   "mimetype": "text/x-r-source",
   "name": "R",
   "pygments_lexer": "r",
   "version": "3.6.1"
  }
 },
 "nbformat": 4,
 "nbformat_minor": 2
}
