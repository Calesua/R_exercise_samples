{
 "cells": [
  {
   "cell_type": "code",
   "execution_count": 1,
   "metadata": {},
   "outputs": [
    {
     "ename": "ERROR",
     "evalue": "Error in parse(text = x, srcfile = src): <text>:4:10: unexpected symbol\n3: indices <- sample(100,20,replace=FALSE)\n4: xn <- x[]indices\n            ^\n",
     "output_type": "error",
     "traceback": [
      "Error in parse(text = x, srcfile = src): <text>:4:10: unexpected symbol\n3: indices <- sample(100,20,replace=FALSE)\n4: xn <- x[]indices\n            ^\nTraceback:\n"
     ]
    }
   ],
   "source": [
    "tabla <- read.table('datosXY.txt')\n",
    "set.seed(123)\n",
    "indices <- sample(100,20,replace=FALSE)\n",
    "xn <- x[]indices]\n",
    "yn <- ...\n",
    "\n",
    "sum(...)\n",
    "\n",
    "plot(xn,yn,)\n",
    "lm(yn ~ xn)\n",
    "recta:\n",
    "\n",
    "...\n",
    "\n",
    "ajuste2 < lm(xn ~ yn)\n",
    "\n",
    "...\n",
    "\n",
    "plot(xn,yn,pch=16)\n",
    "\n",
    "abline(a=ar, b=br,...)\n",
    " error de dos formas:\n",
    "\n",
    "...\n",
    "\n",
    "summary(ajuste)\n",
    "error de a y de b y pvaule de ambas, para el contraste de hipoteiss\n",
    "Error estandar de los residuos...\n",
    "summary$coeff[1,2] es el error de a y [2,2] el de b? Creo que es eso(posiciones en el summary)\n",
    "si pvaule es menor que alfa, se rechaza la hipoteiss nula (x=0) (Es el que salen en la fila de xn)\n",
    "\n",
    "Correlacion lineal: cor()\n",
    "Sale que hay correlacion porque se rechaza la hip nula de que x=0\n",
    "\n",
    "cor.test(xn,yn,method=\"spearman\")$p.value"
   ]
  },
  {
   "cell_type": "code",
   "execution_count": 2,
   "metadata": {},
   "outputs": [
    {
     "data": {
      "text/html": [
       "<table>\n",
       "<thead><tr><th scope=col>xl</th><th scope=col>yl</th></tr></thead>\n",
       "<tbody>\n",
       "\t<tr><td>0.6359273</td><td>10.907079</td></tr>\n",
       "\t<tr><td>8.3101397</td><td> 5.894993</td></tr>\n",
       "\t<tr><td>8.9723570</td><td> 7.443128</td></tr>\n",
       "\t<tr><td>9.9822108</td><td> 7.280433</td></tr>\n",
       "\t<tr><td>3.8287688</td><td> 3.551538</td></tr>\n",
       "\t<tr><td>3.9515338</td><td> 2.634187</td></tr>\n",
       "</tbody>\n",
       "</table>\n"
      ],
      "text/latex": [
       "\\begin{tabular}{r|ll}\n",
       " xl & yl\\\\\n",
       "\\hline\n",
       "\t 0.6359273 & 10.907079\\\\\n",
       "\t 8.3101397 &  5.894993\\\\\n",
       "\t 8.9723570 &  7.443128\\\\\n",
       "\t 9.9822108 &  7.280433\\\\\n",
       "\t 3.8287688 &  3.551538\\\\\n",
       "\t 3.9515338 &  2.634187\\\\\n",
       "\\end{tabular}\n"
      ],
      "text/markdown": [
       "\n",
       "| xl | yl |\n",
       "|---|---|\n",
       "| 0.6359273 | 10.907079 |\n",
       "| 8.3101397 |  5.894993 |\n",
       "| 8.9723570 |  7.443128 |\n",
       "| 9.9822108 |  7.280433 |\n",
       "| 3.8287688 |  3.551538 |\n",
       "| 3.9515338 |  2.634187 |\n",
       "\n"
      ],
      "text/plain": [
       "  xl        yl       \n",
       "1 0.6359273 10.907079\n",
       "2 8.3101397  5.894993\n",
       "3 8.9723570  7.443128\n",
       "4 9.9822108  7.280433\n",
       "5 3.8287688  3.551538\n",
       "6 3.9515338  2.634187"
      ]
     },
     "metadata": {},
     "output_type": "display_data"
    },
    {
     "name": "stdout",
     "output_type": "stream",
     "text": [
      "630.1856 Correcto .\n",
      "El valor de la pendiente del ajuste es 0.6085757 .\n"
     ]
    },
    {
     "ename": "ERROR",
     "evalue": "Error in eval(expr, envir, enclos): object 'ajuste2' not found\n",
     "output_type": "error",
     "traceback": [
      "Error in eval(expr, envir, enclos): object 'ajuste2' not found\nTraceback:\n"
     ]
    },
    {
     "data": {
      "image/png": "[encoded data removed]",
      "text/plain": [
       "Plot with title \"Diagrama de dispersión\""
      ]
     },
     "metadata": {},
     "output_type": "display_data"
    }
   ],
   "source": [
    "tabla <- read.table('datosXY.txt')\n",
    "head(tabla)\n",
    "set.seed(123)\n",
    "indices <- sample(length(tabla[,1]),20,replace=FALSE)\n",
    "\n",
    "xn <- tabla$xl[indices]\n",
    "yn <- tabla$yl[indices]\n",
    "\n",
    "cat(sum(xn*yn),'Correcto .\\n')\n",
    "\n",
    "#pch=tipo de punto\n",
    "plot(xn, yn, pch=21, bg=\"grey\", cex=1.5, cex.lab=1.4, xlab=\"X\", ylab=\"Y\",main=\"Diagrama de dispersión\")\n",
    "text(x=3, y=4.5 , expression(ylx), cex=1.5, pos=4, col='red')\n",
    "ajuste1 <- lm(yn ~ xn)                                                              #Ajuste por minimos cuadrados\n",
    "cat('El valor de la pendiente del ajuste es',ajuste1$coefficients[2],'.\\n')\n",
    "\n",
    "abline(a=ajuste1$coefficients[1] , b=ajuste1$coefficients[2] , lw=3 , col=\"red\")     #Dibujamos la regresión\n",
    "\n",
    "#Ajuste de X sobre Y (minimiza las distancias horizontales):\n",
    "a2 <- -ajuste2$coefficients[1]/ajuste2$coefficients[2] #Se transforma los coeficientes:\n",
    "b2 <- 1/ajuste2$coefficients[2] ;\n",
    "cat('La pendiente de la recta de ajuste de x sobre y es',b2,'.\\n')\n",
    "abline(a=a2 , b=b2 , lw=3 , col=\"blue\")     #Dibujamos la regresión\n",
    "text(x=3, y=1.5 , expression(xly), cex=1.5, pos=4, col='blue')\n"
   ]
  },
  {
   "cell_type": "markdown",
   "metadata": {},
   "source": [
    "## Apartado D)\n",
    "Para el primer ajuste, obtener la desviación típica de la distribución muestral del coeficiente de regresión de la recta (pendiente de la recta)."
   ]
  },
  {
   "cell_type": "code",
   "execution_count": 3,
   "metadata": {},
   "outputs": [
    {
     "name": "stdout",
     "output_type": "stream",
     "text": [
      "La desviación típica de la distribución muestral del coeficiente de regresión de la recta 1 es 1.513584 .\n"
     ]
    }
   ],
   "source": [
    "#podemos calcular la desviación típica residual como:\n",
    "sr <- sqrt(sum(residuals(ajuste1)^2)/(length(xn)-2))\n",
    "cat('La desviación típica de la distribución muestral del coeficiente de regresión de la recta 1 es',sr,'.\\n')"
   ]
  },
  {
   "cell_type": "markdown",
   "metadata": {},
   "source": [
    "## Apartados E) y F)\n",
    "¿Podemos concluir que la pendiente es significativamente distinta de cero?\n",
    "\n",
    "¿Con qué nivel de significación?"
   ]
  },
  {
   "cell_type": "code",
   "execution_count": 4,
   "metadata": {
    "scrolled": true
   },
   "outputs": [
    {
     "data": {
      "text/plain": [
       "\n",
       "Call:\n",
       "lm(formula = yn ~ xn)\n",
       "\n",
       "Residuals:\n",
       "    Min      1Q  Median      3Q     Max \n",
       "-2.5470 -1.1999  0.3204  0.9564  2.5477 \n",
       "\n",
       "Coefficients:\n",
       "            Estimate Std. Error t value Pr(>|t|)    \n",
       "(Intercept)   1.2999     0.6461   2.012   0.0594 .  \n",
       "xn            0.6086     0.1019   5.975 1.19e-05 ***\n",
       "---\n",
       "Signif. codes:  0 '***' 0.001 '**' 0.01 '*' 0.05 '.' 0.1 ' ' 1\n",
       "\n",
       "Residual standard error: 1.514 on 18 degrees of freedom\n",
       "Multiple R-squared:  0.6648,\tAdjusted R-squared:  0.6462 \n",
       "F-statistic:  35.7 on 1 and 18 DF,  p-value: 1.187e-05\n"
      ]
     },
     "metadata": {},
     "output_type": "display_data"
    },
    {
     "name": "stdout",
     "output_type": "stream",
     "text": [
      "Como el nivel de significación es muy pequeño, 1.187221e-05 , se rechaza la hipótesis nula y se considera que la\n",
      "pendiente es significativamente distinta de 0.\n"
     ]
    }
   ],
   "source": [
    "sumario1 <- summary(ajuste1)\n",
    "sumario1\n",
    "cat('Como el nivel de significación es muy pequeño,',sumario1$coefficients[8],', se rechaza la hipótesis nula y se considera que la\n",
    "pendiente es significativamente distinta de 0.\\n')"
   ]
  },
  {
   "cell_type": "markdown",
   "metadata": {},
   "source": [
    "## G)\n",
    "Calcular el coeficiente de correlación lineal."
   ]
  },
  {
   "cell_type": "code",
   "execution_count": 5,
   "metadata": {
    "scrolled": true
   },
   "outputs": [
    {
     "data": {
      "text/html": [
       "0.815339596242118"
      ],
      "text/latex": [
       "0.815339596242118"
      ],
      "text/markdown": [
       "0.815339596242118"
      ],
      "text/plain": [
       "[1] 0.8153396"
      ]
     },
     "metadata": {},
     "output_type": "display_data"
    },
    {
     "name": "stdout",
     "output_type": "stream",
     "text": [
      "O también:"
     ]
    },
    {
     "ename": "ERROR",
     "evalue": "Error in eval(expr, envir, enclos): object 'ajuste2' not found\n",
     "output_type": "error",
     "traceback": [
      "Error in eval(expr, envir, enclos): object 'ajuste2' not found\nTraceback:\n"
     ]
    }
   ],
   "source": [
    "r <- cov(xn,yn)/(sd(xn)*sd(yn))\n",
    "r\n",
    "cat('O también:')\n",
    "as.numeric(sqrt(ajuste1$coefficients[2]*ajuste2$coefficients[2]))\n",
    "cat('ó\\n')\n",
    "cor(xn,yn)\n",
    "cat('Sale que hay correlacion porque se rechaza la hip nula de que x=0. Si x = 0, pendiente 0, no hay relacion x-y \\n')"
   ]
  },
  {
   "cell_type": "markdown",
   "metadata": {},
   "source": [
    "## H)\n",
    "Indicar su nivel de significación"
   ]
  },
  {
   "cell_type": "code",
   "execution_count": 6,
   "metadata": {
    "scrolled": true
   },
   "outputs": [
    {
     "data": {
      "text/html": [
       "1.18722051096652e-05"
      ],
      "text/latex": [
       "1.18722051096652e-05"
      ],
      "text/markdown": [
       "1.18722051096652e-05"
      ],
      "text/plain": [
       "[1] 1.187221e-05"
      ]
     },
     "metadata": {},
     "output_type": "display_data"
    }
   ],
   "source": [
    "cor.test(xn,yn)$p.value"
   ]
  },
  {
   "cell_type": "markdown",
   "metadata": {},
   "source": [
    "## I) y J) \n",
    "Calcular el coeficiente de correlación de Spearman.\n",
    "Indicar su nivel de significación."
   ]
  },
  {
   "cell_type": "code",
   "execution_count": 7,
   "metadata": {},
   "outputs": [
    {
     "name": "stdout",
     "output_type": "stream",
     "text": [
      "Coeficiente"
     ]
    },
    {
     "data": {
      "text/html": [
       "<strong>rho:</strong> 0.786466165413534"
      ],
      "text/latex": [
       "\\textbf{rho:} 0.786466165413534"
      ],
      "text/markdown": [
       "**rho:** 0.786466165413534"
      ],
      "text/plain": [
       "      rho \n",
       "0.7864662 "
      ]
     },
     "metadata": {},
     "output_type": "display_data"
    },
    {
     "name": "stdout",
     "output_type": "stream",
     "text": [
      "con nivel de significación \n"
     ]
    },
    {
     "data": {
      "text/html": [
       "5.52893815936986e-05"
      ],
      "text/latex": [
       "5.52893815936986e-05"
      ],
      "text/markdown": [
       "5.52893815936986e-05"
      ],
      "text/plain": [
       "[1] 5.528938e-05"
      ]
     },
     "metadata": {},
     "output_type": "display_data"
    }
   ],
   "source": [
    "cat('Coeficiente')\n",
    "cor.test(xn,yn,method=\"spearman\")$estimate\n",
    "cat('con nivel de significación \\n')\n",
    "cor.test(xn,yn,method=\"spearman\")$p.value"
   ]
  },
  {
   "cell_type": "markdown",
   "metadata": {},
   "source": [
    "# Parte 2"
   ]
  },
  {
   "cell_type": "markdown",
   "metadata": {},
   "source": [
    "Como en la Tarea 3, utilizando como semilla (seed) el número\n",
    "123\n",
    ", generar un vector que contenga unasecuencia de 100 números que sigan una distribución normal con media 5 y desviación típica 2.\n",
    "Comparar lasecuencia de 100 números generada (a la que llamaremos\n",
    "muestra1\n",
    ") con los datos disponibles en el ficheromuestra2.txt (a los que llamaremos\n",
    "muestra2\n",
    ") respondiendo a las siguentes preguntas\n",
    "**SIN HACER LASUPOSICIÓN de que ambas variables están distribuidas normalmente.**\n",
    "\n",
    "**Nota: para comprobar que las muestras son las correctas, tener en cuenta que el productorio de sustérminos debe ser respectivamente 7.875e+67 y 2.809e+12.**"
   ]
  },
  {
   "cell_type": "code",
   "execution_count": 8,
   "metadata": {},
   "outputs": [
    {
     "name": "stdout",
     "output_type": "stream",
     "text": [
      "Comprobación"
     ]
    },
    {
     "data": {
      "text/html": [
       "7.87456366530976e+67"
      ],
      "text/latex": [
       "7.87456366530976e+67"
      ],
      "text/markdown": [
       "7.87456366530976e+67"
      ],
      "text/plain": [
       "[1] 7.874564e+67"
      ]
     },
     "metadata": {},
     "output_type": "display_data"
    },
    {
     "data": {
      "text/html": [
       "2809058478617.33"
      ],
      "text/latex": [
       "2809058478617.33"
      ],
      "text/markdown": [
       "2809058478617.33"
      ],
      "text/plain": [
       "[1] 2.809058e+12"
      ]
     },
     "metadata": {},
     "output_type": "display_data"
    }
   ],
   "source": [
    "set.seed(123)\n",
    "muestra1 <- rnorm(100,mean=5,sd=2)\n",
    "muestra2 <- read.table('muestra2.txt')\n",
    "\n",
    "cat('Comprobación')\n",
    "prod(muestra1)\n",
    "prod(muestra2)"
   ]
  },
  {
   "cell_type": "markdown",
   "metadata": {},
   "source": [
    "## 1)\n",
    "Comparar gráficamente la distribución de ambos conjuntos de datos mediante una única instrucción en R."
   ]
  },
  {
   "cell_type": "code",
   "execution_count": 16,
   "metadata": {},
   "outputs": [
    {
     "data": {
      "image/png": "[encoded data removed]",
      "text/plain": [
       "plot without title"
      ]
     },
     "metadata": {},
     "output_type": "display_data"
    }
   ],
   "source": [
    "boxplot(muestra1,muestra2$V1,col=c('cyan', 'red'))\n",
    "text(x=1.5, y=13 , expression(ylx), cex=1.5, pos=4, col='green')"
   ]
  },
  {
   "cell_type": "markdown",
   "metadata": {},
   "source": [
    "## 2A) \n",
    "Mediante una única instrucción en R, llevar a cabo un contraste sobre la igualdad de medianas de laspoblaciones de partida."
   ]
  },
  {
   "cell_type": "code",
   "execution_count": 10,
   "metadata": {
    "scrolled": true
   },
   "outputs": [
    {
     "data": {
      "text/plain": [
       "\n",
       "\tWilcoxon rank sum test with continuity correction\n",
       "\n",
       "data:  muestra1 and muestra2$V1\n",
       "W = 1129, p-value = 0.3655\n",
       "alternative hypothesis: true location shift is not equal to 0\n"
      ]
     },
     "metadata": {},
     "output_type": "display_data"
    },
    {
     "name": "stdout",
     "output_type": "stream",
     "text": [
      "Se acepta la hipótesis de igualdad. No tenemos pruebas de que las medianas sean significativamente distintas.\n"
     ]
    }
   ],
   "source": [
    "# Test no paramétrico: Test U de Wilcoxon-Mann-Whitney para comparar \"promedios\" de dos muestras, pero usando la\n",
    "# mediana como medida de centralización.\n",
    "test <- wilcox.test(muestra1,muestra2$V1, alternative = \"two.sided\") # \"less\", \"greater\"\n",
    "test\n",
    "cat('Se acepta la hipótesis de igualdad. No tenemos pruebas de que las medianas sean significativamente distintas.\\n')"
   ]
  },
  {
   "cell_type": "markdown",
   "metadata": {},
   "source": [
    "## 2B)\n",
    "Indicar con qué nivel de significación podemos rechazar la hipótesis nula de igualdad de medianas."
   ]
  },
  {
   "cell_type": "code",
   "execution_count": 11,
   "metadata": {},
   "outputs": [
    {
     "name": "stdout",
     "output_type": "stream",
     "text": [
      "Se puede rechazar la hipótesis para un nivel de significación mayor que 0.3655344 \n"
     ]
    }
   ],
   "source": [
    "cat('Se puede rechazar la hipótesis para un nivel de significación mayor que',test$p.value,'\\n')"
   ]
  },
  {
   "cell_type": "markdown",
   "metadata": {},
   "source": [
    "## 2C)\n",
    "¿Es la diferencia significativa? (Sí/No)"
   ]
  },
  {
   "cell_type": "code",
   "execution_count": 12,
   "metadata": {},
   "outputs": [
    {
     "name": "stdout",
     "output_type": "stream",
     "text": [
      "No \n"
     ]
    }
   ],
   "source": [
    "cat('No \\n')"
   ]
  },
  {
   "cell_type": "markdown",
   "metadata": {},
   "source": [
    "## 3)\n",
    "Llevar a cabo un contraste sobre la igualdad de varianzas de las poblaciones de partida. Indicar el valor delnivel de significación a partir del cual podemos rechazar la hipótesis nula de igualdad de varianzas.\n",
    "Usar el valor de la semilla indicado\n",
    "."
   ]
  },
  {
   "cell_type": "code",
   "execution_count": 13,
   "metadata": {},
   "outputs": [],
   "source": [
    "moses.test <- function(x, y, k){\n",
    "    # Tomar muestras aleatorias de las dos poblaciones\n",
    "    dni <- 123\n",
    "    set.seed(dni) ; x0 <- sample(x)\n",
    "    set.seed(dni) ; y0 <- sample(y)\n",
    "    m <- trunc(length(x0)/k) #Calcular el número de subgrupos en cada muestra\n",
    "    n <- trunc(length(y0)/k)\n",
    "    # Se crean vectores que contengan las desviaciones cuadráticas medias para los diferentes subgrupos, de forma separada\n",
    "    # para cada muestra\n",
    "    ci <- numeric(m) ; di <- numeric(n)\n",
    "    \n",
    "    for (i in 1:m){                       # Bucle para la primera muestra\n",
    "        i1 <- (i-1)*k+1\n",
    "        i2 <- i1+k-1\n",
    "        xmed <- sum(x0[i1:i2])/k\n",
    "        ci[i] <- sum((x0[i1:i2]-xmed)^2)\n",
    "    }\n",
    "    for (i in 1:n){                       # Bule para la segunda muestra\n",
    "        i1 <- (i-1)*k+1\n",
    "        i2 <- i1+k-1\n",
    "        xmed <- sum(y0[i1:i2])/k\n",
    "        di[i] <- sum((y0[i1:i2]-xmed)^2)\n",
    "    }\n",
    "    cat(\"Test de rangos de Moses:\",\"\\n\")\n",
    "    wilcox.test(ci, di)                   # Aplica el test de Wilcoxon-Mann-Whitney para los valores de ci y di\n",
    "}"
   ]
  },
  {
   "cell_type": "markdown",
   "metadata": {},
   "source": [
    "En la funcion anterior el profe metió el set seed para que se ejecute antes de cada sample y asegurarse de que siempre\n",
    "se generan muestras de la misma forma  y por tanto de que el p-value del test se mantiene inalterado sea cual sea el orden\n",
    "en que se pasen las dos muestras."
   ]
  },
  {
   "cell_type": "code",
   "execution_count": 14,
   "metadata": {
    "scrolled": true
   },
   "outputs": [
    {
     "name": "stdout",
     "output_type": "stream",
     "text": [
      "Test de rangos de Moses: \n"
     ]
    },
    {
     "data": {
      "text/plain": [
       "\n",
       "\tWilcoxon rank sum test\n",
       "\n",
       "data:  ci and di\n",
       "W = 2, p-value = 0.0007529\n",
       "alternative hypothesis: true location shift is not equal to 0\n"
      ]
     },
     "metadata": {},
     "output_type": "display_data"
    },
    {
     "name": "stdout",
     "output_type": "stream",
     "text": [
      "Se rechaza la hipótesis, en general. Se rechaza a partir de un nivel 0.0007528703 \n",
      "La varianzas son significativamente desiguales \n",
      "\n",
      "El resultado es el mismo que metiendo las muestras en orden inverso.\n"
     ]
    }
   ],
   "source": [
    "#Muestra 1\n",
    "test.moses <- moses.test(muestra1, muestra2$V1, 5)\n",
    "test.moses\n",
    "cat('Se rechaza la hipótesis, en general. Se rechaza a partir de un nivel',test.moses$p.value,'\\n')\n",
    "cat('La varianzas son significativamente desiguales \\n\\n')\n",
    "cat('El resultado es el mismo que metiendo las muestras en orden inverso.\\n')"
   ]
  },
  {
   "cell_type": "markdown",
   "metadata": {},
   "source": [
    "## 4A)\n",
    "Mediante una única instrucción, llevar a cabo un test de Kolmogorov-Smirnov para comparar las distribuciones."
   ]
  },
  {
   "cell_type": "code",
   "execution_count": 21,
   "metadata": {},
   "outputs": [
    {
     "data": {
      "text/plain": [
       "\n",
       "\tTwo-sample Kolmogorov-Smirnov test\n",
       "\n",
       "data:  muestra1 and muestra2$V1\n",
       "D = 0.31, p-value = 0.06967\n",
       "alternative hypothesis: two-sided\n"
      ]
     },
     "metadata": {},
     "output_type": "display_data"
    },
    {
     "name": "stdout",
     "output_type": "stream",
     "text": [
      "Se acepta la hipótesis nula: No hay diferencias significativas en las distribuciones \n"
     ]
    }
   ],
   "source": [
    "ks.test(muestra1, muestra2$V1)\n",
    "cat('Se acepta la hipótesis nula: No hay diferencias significativas en las distribuciones \\n')"
   ]
  },
  {
   "cell_type": "markdown",
   "metadata": {},
   "source": [
    "## 4B)\n",
    "Indicar el valor del nivel de significación a partir del cual podemos rechazar la hipótesis nula de igualdad de distribuciones"
   ]
  },
  {
   "cell_type": "code",
   "execution_count": 22,
   "metadata": {},
   "outputs": [
    {
     "data": {
      "text/html": [
       "0.06967"
      ],
      "text/latex": [
       "0.06967"
      ],
      "text/markdown": [
       "0.06967"
      ],
      "text/plain": [
       "[1] 0.06967"
      ]
     },
     "metadata": {},
     "output_type": "display_data"
    }
   ],
   "source": [
    "0.06967"
   ]
  },
  {
   "cell_type": "markdown",
   "metadata": {},
   "source": [
    "## 4C)\n",
    "Indicar y representar el valor de la diferencia máxima absoluta entre funciones relativas acumuladas."
   ]
  },
  {
   "cell_type": "code",
   "execution_count": 23,
   "metadata": {},
   "outputs": [
    {
     "data": {
      "text/html": [
       "0.31"
      ],
      "text/latex": [
       "0.31"
      ],
      "text/markdown": [
       "0.31"
      ],
      "text/plain": [
       "[1] 0.31"
      ]
     },
     "metadata": {},
     "output_type": "display_data"
    }
   ],
   "source": [
    "0.31"
   ]
  },
  {
   "cell_type": "code",
   "execution_count": 54,
   "metadata": {
    "scrolled": false
   },
   "outputs": [
    {
     "name": "stderr",
     "output_type": "stream",
     "text": [
      "Warning message in plot.window(...):\n",
      "\"\"add\" is not a graphical parameter\"Warning message in plot.xy(xy, type, ...):\n",
      "\"\"add\" is not a graphical parameter\"Warning message in axis(side = side, at = at, labels = labels, ...):\n",
      "\"\"add\" is not a graphical parameter\"Warning message in axis(side = side, at = at, labels = labels, ...):\n",
      "\"\"add\" is not a graphical parameter\"Warning message in box(...):\n",
      "\"\"add\" is not a graphical parameter\"Warning message in title(...):\n",
      "\"\"add\" is not a graphical parameter\""
     ]
    },
    {
     "data": {
      "image/png": "[encoded data removed]",
      "text/plain": [
       "plot without title"
      ]
     },
     "metadata": {},
     "output_type": "display_data"
    },
    {
     "data": {
      "image/png": "[encoded data removed]",
      "text/plain": [
       "plot without title"
      ]
     },
     "metadata": {},
     "output_type": "display_data"
    }
   ],
   "source": [
    "tab1 <- table(muestra1)/length(muestra1)\n",
    "tab2 <- table(muestra2)/length(muestra2$V1)\n",
    "\n",
    "suma1 <- cumsum(tab1)\n",
    "suma2 <- cumsum(tab2)\n",
    "\n",
    "plot(suma1,type='s')\n",
    "plot(suma2,add=TRUE,type='s')"
   ]
  },
  {
   "cell_type": "code",
   "execution_count": 88,
   "metadata": {},
   "outputs": [
    {
     "name": "stdout",
     "output_type": "stream",
     "text": [
      "El valor del estadístico D es 0.26 \n",
      "La variable donde se da el máximo es 3.371662 \n"
     ]
    },
    {
     "data": {
      "text/html": [
       "4.50666666666667"
      ],
      "text/latex": [
       "4.50666666666667"
      ],
      "text/markdown": [
       "4.50666666666667"
      ],
      "text/plain": [
       "[1] 4.506667"
      ]
     },
     "metadata": {},
     "output_type": "display_data"
    },
    {
     "name": "stdout",
     "output_type": "stream",
     "text": [
      "Nivel de significación \n"
     ]
    },
    {
     "data": {
      "text/html": [
       "0.210096957429003"
      ],
      "text/latex": [
       "0.210096957429003"
      ],
      "text/markdown": [
       "0.210096957429003"
      ],
      "text/plain": [
       "[1] 0.210097"
      ]
     },
     "metadata": {},
     "output_type": "display_data"
    },
    {
     "data": {
      "image/png": "[encoded data removed]",
      "text/plain": [
       "Plot with title \"\""
      ]
     },
     "metadata": {},
     "output_type": "display_data"
    }
   ],
   "source": [
    "plot(ecdf(muestra1), do.points=FALSE, lwd=1.5, verticals=TRUE, col=\"red\",\n",
    "xlab=\"X\", ylab=\"e.d.f.\", main=\"\", xlim=c(0,20))\n",
    "plot(ecdf(muestra2$V1), do.points=FALSE, lwd=1.5, verticals=TRUE, col=\"blue\",\n",
    "add=TRUE)\n",
    "k <- seq(min(c(muestra1,muestra2$V1))-0.01, max(c(muestra1,muestra2$V1))+0.01,by=1)\n",
    "x1 <- numeric(length(k)) ; x2 <- numeric(length(k))\n",
    "for (i in 1:length(k)) {\n",
    "    x1[i] <- length(muestra1[muestra1 <= k[i]])/length(muestra1)\n",
    "    x2[i] <- length(muestra2$V1[muestra2$V1 <= k[i]])/length(muestra2$V1)\n",
    "}\n",
    "\n",
    "ks <- abs(x1-x2)\n",
    "ksmax <- max(ks) ;                               # valor del estadístico D\n",
    "cat('El valor del estadístico D es',ksmax,'\\n')\n",
    "\n",
    "kmax <- k[which(ks == ksmax)] ;             # valor de la variable para la que ocurre el máximo\n",
    "cat('La variable donde se da el máximo es',kmax,'\\n')\n",
    "abline(v=kmax,lty=3,col='darkgreen')\n",
    "\n",
    "estad <- 4*ksmax^2*length(muestra1)*length(muestra2$V1)/(length(muestra1)+length(muestra2$V1))\n",
    "estad                                            # aproximación a una chi2\n",
    "\n",
    "cat('Nivel de significación \\n') \n",
    "2*pchisq(estad, df=2, lower.tail=FALSE)          # nivel de significación"
   ]
  },
  {
   "cell_type": "code",
   "execution_count": 84,
   "metadata": {},
   "outputs": [],
   "source": [
    "help(abline)"
   ]
  }
 ],
 "metadata": {
  "kernelspec": {
   "display_name": "R",
   "language": "R",
   "name": "ir"
  },
  "language_info": {
   "codemirror_mode": "r",
   "file_extension": ".r",
   "mimetype": "text/x-r-source",
   "name": "R",
   "pygments_lexer": "r",
   "version": "3.6.1"
  }
 },
 "nbformat": 4,
 "nbformat_minor": 2
}
