{
 "cells":[
  {
   "cell_type":"markdown",
   "source":[
    "# Tarea 3 (tema 5): Intervalos de confianza\n",
    "## \n",
    "1) Intervalos de confianza para la media y la desviación poblacional a partir de una muestra."
   ],
   "attachments":{
    
   },
   "metadata":{
    "datalore":{
     "node_id":"EYnKuS21wqkLxUC1KpwC8q",
     "type":"MD",
     "hide_input_from_viewers":false,
     "hide_output_from_viewers":false,
     "report_properties":{
      "rowId":"4uLexgg3pAkqj8DaOfiKfk"
     }
    }
   }
  },
  {
   "cell_type":"markdown",
   "source":[
    "## 1.a) \n",
    "Utilizando como semilla (seed) el número 12345 generar un vector que contenga una secuencia de 30\n",
    "números que sigan una distribución normal con media 6 y desviación típica 1. Determinar su media y su\n",
    "desviación típica."
   ],
   "attachments":{
    
   },
   "metadata":{
    "datalore":{
     "node_id":"6wpOg2sjdXagUZKLu4i2is",
     "type":"MD",
     "hide_input_from_viewers":true,
     "hide_output_from_viewers":true
    }
   }
  },
  {
   "cell_type":"code",
   "source":[
    "set.seed(12345)\n",
    "y <- rnorm(30, mean=6, sd=1) \n",
    "cat(\"Vector de 30 números con distribución N(6,1):\",\"\\n\",y,\"\\n\",\"\\n\")\n",
    "mu=mean(y)\n",
    "sigma=sd(y)\n",
    "cat(\"La media del vector y es\",mu,\"y su desviación típica es\",sigma,\"\\n\")"
   ],
   "execution_count":null,
   "outputs":[
    {
     "name":"stdout",
     "text":[
      "Vector de 30 números con distribución N(6,1): \n",
      " 6.585529 6.709466 5.890697 5.546503 6.605887 4.182044 6.630099 5.723816 5.71584 5.080678 5.883752 7.817312 6.370628 6.520216 5.249468 6.8169 5.113642 5.668422 7.120713 6.298724 6.779622 7.455785 5.355672 4.446863 4.40229 7.805098 5.518353 6.62038 6.612123 5.837689 \n",
      " \n",
      "La media del vector y es 6.078807 y su desviación típica es 0.9382258 \n"
     ],
     "output_type":"stream"
    }
   ],
   "metadata":{
    "datalore":{
     "node_id":"bcbhrBCBobCqAqYrxWJ0UN",
     "type":"CODE",
     "hide_input_from_viewers":false,
     "hide_output_from_viewers":false,
     "report_properties":{
      "rowId":"bTBau6Vhp7NMttGzbg1H7d"
     }
    }
   }
  },
  {
   "cell_type":"markdown",
   "source":[
    "## 1.b)\n",
    "Representar el histograma del vector anterior, superponiendo en otro color la curva con la distribución\n",
    "teórica (normal) asumida."
   ],
   "attachments":{
    
   },
   "metadata":{
    "datalore":{
     "node_id":"UoLMZHM8PjsPcNjwQg8wEu",
     "type":"MD",
     "hide_input_from_viewers":false,
     "hide_output_from_viewers":false,
     "report_properties":{
      "rowId":"JILstZwdOoNVV4RT6XGjM4"
     }
    }
   }
  },
  {
   "cell_type":"code",
   "source":[
    "hist(y,freq=FALSE,xlim=c(2,10),col='cyan',main=\"Distribución N(6,1) para 30 elementos\",ylab=\"Frecuencia relativa\",xlab=\"Elementos del vector y\")\n",
    "grid()\n",
    "curve(dnorm(x,mu,sigma),add=TRUE,col='red',lwd=2)"
   ],
   "execution_count":null,
   "outputs":[
    {
     "data":{
      "image\/png":"[encoded data removed]"
     },
     "metadata":{
      "image\/png":{
       "width":420,
       "height":420
      }
     },
     "output_type":"display_data"
    },
    {
     "data":{
      "text\/plain":[
       "Plot with title \"Distribución N(6,1) para 30 elementos\""
      ]
     },
     "metadata":{
      
     },
     "output_type":"display_data"
    }
   ],
   "metadata":{
    "datalore":{
     "node_id":"tkKX13MewoqaRHAfwTOaQb",
     "type":"CODE",
     "hide_input_from_viewers":false,
     "hide_output_from_viewers":false,
     "report_properties":{
      "rowId":"dNP1atN8xFgFCzoLyRFsVO"
     }
    }
   }
  },
  {
   "cell_type":"markdown",
   "source":[
    "## 1.c)\n",
    "Obtener un intervalo de confianza del 90% para la media poblacional sin hacer la suposición de que la\n",
    "aproximación normal es razonable y haciendo la suposión de que la aproximación normal es razonable.\n",
    "Compara los dos resultados."
   ],
   "attachments":{
    
   },
   "metadata":{
    "datalore":{
     "node_id":"LObr4vyzgz3VSo3o4dZSS9",
     "type":"MD",
     "hide_input_from_viewers":false,
     "hide_output_from_viewers":false,
     "report_properties":{
      "rowId":"eyVpbsS8VhH9puMXzTaJYp"
     }
    }
   }
  },
  {
   "cell_type":"markdown",
   "source":[
    "Sin aproximación normal:"
   ],
   "attachments":{
    
   },
   "metadata":{
    "datalore":{
     "node_id":"Ktcy8InAczpy5m6dUgMC5h",
     "type":"MD",
     "hide_input_from_viewers":false,
     "hide_output_from_viewers":false,
     "report_properties":{
      "rowId":"Zhy5xTomwQsixY724IeNl5"
     }
    }
   }
  },
  {
   "cell_type":"code",
   "source":[
    "intconf <- function(x, nc){\n",
    "tlim <- (1 - nc\/100)\/2                            #alfa\/2\n",
    "t  <- qt(tlim, df=length(x)-1, lower.tail=FALSE)  #usa distribución t (no se considera aprox normal)\n",
    "l1 <- mean(x) - t*sd(x)\/sqrt(length(x))           #límite inferior\n",
    "l2 <- mean(x) + t*sd(x)\/sqrt(length(x))           #límite superior\n",
    "cat(\"Intervalo del \", nc, \"%: [\", l1, \",\", l2, \"]\", \"\\n\")\n",
    "return(c(l1,l2))                                  #devuelve como resultado los dos límites\n",
    "}"
   ],
   "execution_count":null,
   "outputs":[
    
   ],
   "metadata":{
    "datalore":{
     "node_id":"kGTiuHaHVFU97wBZBvpH3D",
     "type":"CODE",
     "hide_input_from_viewers":false,
     "hide_output_from_viewers":false,
     "report_properties":{
      "rowId":"Kz54lDzHeUd2JzmEPSTDSS"
     }
    }
   }
  },
  {
   "cell_type":"code",
   "source":[
    "#Nivel de confianza 90%\n",
    "limites <- intconf(y,90)"
   ],
   "execution_count":null,
   "outputs":[
    {
     "name":"stdout",
     "text":[
      "Intervalo del  90 %: [ 5.787754 , 6.36986 ] \n"
     ],
     "output_type":"stream"
    }
   ],
   "metadata":{
    "datalore":{
     "node_id":"deU0Dd3DavmspYt7VLPuRB",
     "type":"CODE",
     "hide_input_from_viewers":false,
     "hide_output_from_viewers":false,
     "report_properties":{
      "rowId":"iL1Uv10WzRMzgZODowSIt7"
     }
    }
   }
  },
  {
   "cell_type":"markdown",
   "source":[
    "Con aproximación normal:"
   ],
   "attachments":{
    
   },
   "metadata":{
    "datalore":{
     "node_id":"dNppN9PA9hkNjyhhlCDr6S",
     "type":"MD",
     "hide_input_from_viewers":false,
     "hide_output_from_viewers":false,
     "report_properties":{
      "rowId":"wsGAEGtVLEnqtDW3cza1hi"
     }
    }
   }
  },
  {
   "cell_type":"code",
   "source":[
    "intconf2 <- function(x, nc){\n",
    "zlim <- (1 - nc\/100)\/2                            #alfa\/2\n",
    "z  <- qnorm(zlim, lower.tail=FALSE)               #usa distribución z_alfa\/2\n",
    "l1 <- mean(x) - z*sd(x)\/sqrt(length(x))           #límite inferior\n",
    "l2 <- mean(x) + z*sd(x)\/sqrt(length(x))           #límite superior\n",
    "cat(\"Intervalo del \", nc, \"%: [\", l1, \",\", l2, \"]\", \"\\n\")\n",
    "return(c(l1,l2))                                  #devuelve como resultado los dos límites\n",
    "}"
   ],
   "execution_count":null,
   "outputs":[
    
   ],
   "metadata":{
    "datalore":{
     "node_id":"CmlCV2wmGrJFflppt39B6M",
     "type":"CODE",
     "hide_input_from_viewers":false,
     "hide_output_from_viewers":false,
     "report_properties":{
      "rowId":"qwnseS1uIMTv2ZomlmBc9B"
     }
    }
   }
  },
  {
   "cell_type":"code",
   "source":[
    "#Nivel de confianza 90%\n",
    "limites2 <- intconf2(y,90)\n"
   ],
   "execution_count":null,
   "outputs":[
    {
     "name":"stdout",
     "text":[
      "Intervalo del  90 %: [ 5.79705 , 6.360564 ] \n"
     ],
     "output_type":"stream"
    }
   ],
   "metadata":{
    "datalore":{
     "node_id":"HwyyGPMZaFq0LA03l8Kh5X",
     "type":"CODE",
     "hide_input_from_viewers":false,
     "hide_output_from_viewers":false,
     "report_properties":{
      "rowId":"gzq6DRs3bZfIHWJNuoDkLS"
     }
    }
   }
  },
  {
   "cell_type":"code",
   "source":[
    "cat(\"Se aprecia que, siendo la media de la muestra ym=6.078807, los tamaños de los semiintervalos serían: \",\"\\n\")\n",
    "cat(\"Sin aproximación normal: SI-=\", mu-5.787754 , \"; SI+=\", 6.36986-mu,\"\\n\")\n",
    "cat(\"Sin aproximación normal: SI-=\", mu-5.79705 , \"; SI+=\", 6.360564-mu,\"\\n\",\"\\n\")\n",
    "cat(\"Se ve que en ambos casos, como es de esperar, son intervalos simétricos y que en el caso en que no se considera \n",
    "aproximación normal, el intervalo es de mayor tamaño. Esto tampoco sorprende, ya que al reducirse los grados de libertad,\n",
    "se ensancha la distribución.\",\"\\n\")"
   ],
   "execution_count":null,
   "outputs":[
    {
     "name":"stdout",
     "text":[
      "Se aprecia que, siendo la media de la muestra ym=6.078807, los tamaños de los semiintervalos serían:  \n",
      "Sin aproximación normal: SI-= 0.291053 ; SI+= 0.291053 \n",
      "Sin aproximación normal: SI-= 0.281757 ; SI+= 0.281757 \n",
      " \n",
      "Se ve que en ambos casos, como es de esperar, son intervalos simétricos y que en el caso en que no se considera \n",
      "aproximación normal, el intervalo es de mayor tamaño. Esto tampoco sorprende, ya que al reducirse los grados de libertad,\n",
      "se ensancha la distribución. \n"
     ],
     "output_type":"stream"
    }
   ],
   "metadata":{
    "datalore":{
     "node_id":"Vee6AuHP5UYs3yfu2jJNOG",
     "type":"CODE",
     "hide_input_from_viewers":false,
     "hide_output_from_viewers":false,
     "report_properties":{
      "rowId":"GZMxVe2sSq8CjOniXd0eig"
     }
    }
   }
  },
  {
   "cell_type":"markdown",
   "source":[
    "## 1.d)\n",
    "Obtener un intervalo de confianza del 98% para la desviación típica poblacional."
   ],
   "attachments":{
    
   },
   "metadata":{
    "datalore":{
     "node_id":"P70N4rYSlisIlHoDQAlAn1",
     "type":"MD",
     "hide_input_from_viewers":false,
     "hide_output_from_viewers":false,
     "report_properties":{
      "rowId":"GeeBXZmEe3sSt69y1bBVjx"
     }
    }
   }
  },
  {
   "cell_type":"code",
   "source":[
    "intconfsd <- function(x, nc){\n",
    "lim <- (1-nc\/100)\/2                              #alfa\/2\n",
    "chi1 <- qchisq(lim, df=length(x)-1, lower.tail=FALSE)\n",
    "chi2 <- qchisq(lim, df=length(x)-1)\n",
    "l1 <- sqrt((length(x)-1)*var(x)\/chi1)\n",
    "l2 <- sqrt((length(x)-1)*var(x)\/chi2)\n",
    "cat(\"Intervalo del\",nc,\"%: [\",l1,\",\",l2,\"]\",\"\\n\")\n",
    "}"
   ],
   "execution_count":null,
   "outputs":[
    
   ],
   "metadata":{
    "datalore":{
     "node_id":"gAP32Sn2sDdvLyXK5W5c3y",
     "type":"CODE",
     "hide_input_from_viewers":false,
     "hide_output_from_viewers":false,
     "report_properties":{
      "rowId":"1KKbfxEl9FhDPUDzxDV8Uo"
     }
    }
   }
  },
  {
   "cell_type":"code",
   "source":[
    "intconfsd(y,98)"
   ],
   "execution_count":null,
   "outputs":[
    {
     "name":"stdout",
     "text":[
      "Intervalo del 98 %: [ 0.7174945 , 1.338137 ] \n"
     ],
     "output_type":"stream"
    }
   ],
   "metadata":{
    "datalore":{
     "node_id":"O95UEYs81EydIvtOrimqOS",
     "type":"CODE",
     "hide_input_from_viewers":false,
     "hide_output_from_viewers":false,
     "report_properties":{
      "rowId":"VhLv9N1SSN3vlEBgywdWKO"
     }
    }
   }
  },
  {
   "cell_type":"markdown",
   "source":[
    "# Ejercicio 2\n",
    "## Intervalos de confianza para una proporción\n",
    "Según el estudio de Polack et al 2020 (https:\/\/www.nejm.org\/doi\/full\/10.1056\/NEJMoa2034577\n",
    "(https:\/\/www.nejm.org\/doi\/full\/10.1056\/NEJMoa2034577)) sobre la vacuna Pfizer contra el covid-19 se tomaron\n",
    "2 muestras de entre las 43448 personas que participaron voluntariamente en el ensayo clínico para la vacuna.\n",
    "A la primera muestra de 21720 personas se le administró la vacuna y a la segunda muestra de 21728\n",
    "personas se le administró un placebo. El número de personas presentando cuadros relacionados con covid-19\n",
    "y dando positivo en el test en el periodo estudiado para los vacunados y no vacunados fue 8 y 162\n",
    "respectivamente."
   ],
   "attachments":{
    
   },
   "metadata":{
    "datalore":{
     "node_id":"vxcTo7UnqlMp3BhO8Bv1Jg",
     "type":"MD",
     "hide_input_from_viewers":false,
     "hide_output_from_viewers":false,
     "report_properties":{
      "rowId":"Ha0jBroeCyWvzZSlE8eaIk"
     }
    }
   }
  },
  {
   "cell_type":"markdown",
   "source":[
    "## 2.a) \n",
    "Calcular el intervalo de confianza al 99% de las diferencias en proporción de casos covid-19 entre la\n",
    "población vacunada y sin vacunar. Interpretar el resultado."
   ],
   "attachments":{
    
   },
   "metadata":{
    "datalore":{
     "node_id":"1AXHLcKqAedhz0Kpi7suDV",
     "type":"MD",
     "hide_input_from_viewers":false,
     "hide_output_from_viewers":false,
     "report_properties":{
      "rowId":"eg5kZnOev39SB9tKBzK4QT"
     }
    }
   }
  },
  {
   "cell_type":"code",
   "source":[
    "#Muestras con distribución binomial:\n",
    "#Hay una probabilidad de 8\/21720 de dar positivo estando vacunado.      Estadístico P1\n",
    "#Hay una probabilidad de 162\/21728 de dar positivo no estando vacunado. Estadístico P2\n",
    "#Media mu=p y sig2(sigma^2)=pq\n",
    "#Para el estadistico P: mup=p y sig2p=pq\/n=p(1-p)\/n (muestra muy grande)\n",
    "\n",
    "#Para la diferencia de medidas:\n",
    "#mu(p1-p2)=p1-p2  sig2(p1-p2)=p1*q1\/n1 + p2*q2\/n2\n",
    "fav1=162\n",
    "tot1=21728\n",
    "fav2=8\n",
    "tot2=21720\n",
    "\n",
    "p1=fav1\/tot1                                 #Estadístico P1\n",
    "p2=fav2\/tot2                                 #Estadístico P2\n",
    "med1=p1\n",
    "sigma1=p1*(1-p1)                        #Distribución binomial de la muestra 1\n",
    "med2=p2\n",
    "sigma2=p2*(1-p2)\n",
    "\n",
    "\n",
    "# Como n1 es similar a n2 y n1+n2 mucho mayor que 30 -> Aproximación normal de la distribución para la diferencia de medias:\n",
    "intconfdifprop <- function(mu1, sig1, mu2, sig2, nc){\n",
    "    zlim <- (1-nc\/100)\/2                         #alfa\/2\n",
    "    z <- qnorm(zlim, lower.tail=FALSE)           #99% de nivel confianza\n",
    "    l1 <- mu1-mu2 - z*sqrt((sig1^2\/tot1)+(sig2^2\/tot2))\n",
    "    l2 <- mu1-mu2 + z*sqrt((sig1^2\/tot1)+(sig2^2\/tot2))\n",
    "    cat(\"Intervalo del\",nc,\"%: [\",l1,\",\",l2,\"]\",\"\\n\")\n",
    "}\n",
    "\n",
    "#Corremos la función con los valores medios de p1 y p2 y sus varianzas:\n",
    "intconfdifprop(med1,sigma1,med2,sigma2,99)\n",
    "\n",
    "cat(\"Las probabilidades de dar positivo en ambos grupos son:\",\"\\n\")\n",
    "cat(\"p1=\",p1,\"para el grupo no vacunado.\",\"\\n\")\n",
    "cat(\"p2=\",p2,\"para el grupo vacunado.\",\"\\n\")\n",
    "\n",
    "cat(\"Este resultado indica, por un lado, que al encontrarse la probabilidad de dar positivo, siendo del grupo no vacunado, tan\n",
    "cerca del valor central del intervalo, es mucho más probable que un positivo pertenezca a este grupo, ya que está \n",
    "en el centro de la normal y el otro valor central se encuentra en un extremo. La conclusión que se puede sacar es que la \n",
    "vacunación reduce mucho la probabilidad de dar positivo en el test.\",\"\\n\")"
   ],
   "execution_count":null,
   "outputs":[
    {
     "name":"stdout",
     "text":[
      "Intervalo del 99 %: [ 0.006958017 , 0.007216969 ] \n",
      "Las probabilidades de dar positivo en ambos grupos son: \n",
      "p1= 0.007455817 para el grupo no vacunado. \n",
      "p2= 0.0003683241 para el grupo vacunado. \n",
      "Este resultado indica, por un lado, que al encontrarse la probabilidad de dar positivo, siendo del grupo no vacunado, tan\n",
      "cerca del valor central del intervalo, es mucho más probable que un positivo pertenezca a este grupo, ya que está \n",
      "en el centro de la normal y el otro valor central se encuentra en un extremo. La conclusión que se puede sacar es que la \n",
      "vacunación reduce mucho la probabilidad de dar positivo en el test. \n"
     ],
     "output_type":"stream"
    }
   ],
   "metadata":{
    "datalore":{
     "node_id":"ubAkIfNRaFAFQKLqxuuqpb",
     "type":"CODE",
     "hide_input_from_viewers":false,
     "hide_output_from_viewers":false,
     "report_properties":{
      "rowId":"tNv0zVQmZO5EYxZWHDoLW9"
     }
    }
   }
  },
  {
   "cell_type":"markdown",
   "source":[
    "## 2.b) \n",
    "Utilizando como semilla (seed) el número 12345 , generar dos muestras, con 10.000 elementos cada\n",
    "una, que simulen el número de personas con positivo en covid-19 para las dos distribuciones binomiales con\n",
    "parámetros n y p iguales a los de del estudio de Polack. Representa los histogramas de la proporción de casos\n",
    "covid-19 para las dos muestras y compáralos."
   ],
   "attachments":{
    
   },
   "metadata":{
    "datalore":{
     "node_id":"TQDemcqChmGZEQczhfvBZe",
     "type":"MD",
     "hide_input_from_viewers":false,
     "hide_output_from_viewers":false,
     "report_properties":{
      "rowId":"LAG0KfcCeN3g2jhtMhopNn"
     }
    }
   }
  },
  {
   "cell_type":"markdown",
   "source":[
    "Así creo que era como se debía hacer:"
   ],
   "attachments":{
    
   },
   "metadata":{
    "datalore":{
     "node_id":"1susuUIXihD2BbGl6mEzuG",
     "type":"MD",
     "hide_input_from_viewers":false,
     "hide_output_from_viewers":false,
     "report_properties":{
      "rowId":"uUk7ay55KUA2ESjyQ9q97W"
     }
    }
   }
  },
  {
   "cell_type":"code",
   "source":[
    "#Así es como había que hacerlo (o más o menos así)\n",
    "set.seed(12345)\n",
    "xsampler1 <- rbinom(10000,10000,p1)\n",
    "table(xsampler1)\n",
    "hist(xsampler1,freq=FALSE,xlim=c(39,120), ylim=c(0,0.05), xpd=FALSE, names.arg=seq(0,10000,1),col=\"cyan\") #Los límites fueron comprobados previamente.\n",
    "text(x=99, y=0.042, expression(p == 162\/21728), cex=1.5, pos=4)\n",
    "grid()\n",
    "\n",
    "xsampler2 <- rbinom(10000,10000,p2)\n",
    "table(xsampler2)\n",
    "hist(xsampler2,freq=FALSE,xlim=c(0,20), ylim=c(0,0.25), xpd=FALSE, names.arg=seq(0,10000,1),col=\"cyan\") #Los límites fueron comprobados previamente.\n",
    "text(x=12, y=0.2, expression(p == 8\/21720), cex=1.5, pos=4)\n",
    "grid()\n",
    "\n",
    "cat(\"Se observa que en el caso con probabilidad p1=162\/21728=\", p1,\"la distribución es como una normal centrada en\" ,10000*p1,\".\n",
    "Esto corresponde a la muestra de personas no vacunadas.\",\"\\n\")\n",
    "cat(\"Para la muestra de personas vacunadas, con probabilidad p2=8\/21720=\", p2,\", la distribución no es simétrica, \n",
    "y las cantidades de positivos más probables se sitúan en valores mucho más bajos, está centrada en\", 10000*p2, \".\",\"\\n\")"
   ],
   "execution_count":null,
   "outputs":[
    {
     "name":"stdout",
     "text":[
      "\n",
      "\n",
      "\n",
      "\n",
      "\n",
      "Se observa que en el caso con probabilidad p1=162\/21728= 0.007455817 la distribución es como una normal centrada en 74.55817 .\n",
      "Esto corresponde a la muestra de personas no vacunadas. \n",
      "Para la muestra de personas vacunadas, con probabilidad p2=8\/21720= 0.0003683241 , la distribución no es simétrica, \n",
      "y las cantidades de positivos más probables se sitúan en valores mucho más bajos, está centrada en 3.683241 . \n",
      "\n"
     ],
     "output_type":"stream"
    },
    {
     "name":"stderr",
     "text":[
      "\n",
      "Warning message in plot.window(xlim, ylim, \"\", ...):\n",
      "\"\"names.arg\" is not a graphical parameter\"\n",
      "Warning message in title(main = main, sub = sub, xlab = xlab, ylab = ylab, ...):\n",
      "\"\"names.arg\" is not a graphical parameter\"\n",
      "Warning message in axis(1, ...):\n",
      "\"\"names.arg\" is not a graphical parameter\"\n",
      "Warning message in axis(2, ...):\n",
      "\"\"names.arg\" is not a graphical parameter\"\n",
      "\n",
      "\n",
      "Warning message in plot.window(xlim, ylim, \"\", ...):\n",
      "\"\"names.arg\" is not a graphical parameter\"\n",
      "Warning message in title(main = main, sub = sub, xlab = xlab, ylab = ylab, ...):\n",
      "\"\"names.arg\" is not a graphical parameter\"\n",
      "Warning message in axis(1, ...):\n",
      "\"\"names.arg\" is not a graphical parameter\"\n",
      "Warning message in axis(2, ...):\n",
      "\"\"names.arg\" is not a graphical parameter\"\n",
      "\n",
      "\n",
      "\n"
     ],
     "output_type":"stream"
    },
    {
     "data":{
      "text\/plain":[
       "xsampler1\n",
       " 47  48  49  50  51  52  53  54  55  56  57  58  59  60  61  62  63  64  65  66 \n",
       "  2   1   3   9   9  10  20  14  34  40  52  60  85 120 137 159 206 252 227 294 \n",
       " 67  68  69  70  71  72  73  74  75  76  77  78  79  80  81  82  83  84  85  86 \n",
       "351 364 390 392 411 429 497 457 468 480 451 397 409 373 331 294 249 273 189 190 \n",
       " 87  88  89  90  91  92  93  94  95  96  97  98  99 100 101 102 103 104 105 106 \n",
       "155 137 111  96  80  75  56  32  40  15  14  18  14  10   3   4   4   1   1   2 \n",
       "108 110 \n",
       "  2   1 "
      ]
     },
     "metadata":{
      
     },
     "output_type":"display_data"
    },
    {
     "data":{
      "text\/plain":[
       "xsampler2\n",
       "   0    1    2    3    4    5    6    7    8    9   10   11   12   13 \n",
       " 251  947 1722 2145 1890 1391  849  471  204   73   42    9    4    2 "
      ]
     },
     "metadata":{
      
     },
     "output_type":"display_data"
    },
    {
     "data":{
      "image\/png":"[encoded data removed]"
     },
     "metadata":{
      "image\/png":{
       "width":420,
       "height":420
      }
     },
     "output_type":"display_data"
    },
    {
     "data":{
      "text\/plain":[
       "Plot with title \"Histogram of xsampler1\""
      ]
     },
     "metadata":{
      
     },
     "output_type":"display_data"
    },
    {
     "data":{
      "image\/png":"[encoded data removed]"
     },
     "metadata":{
      "image\/png":{
       "width":420,
       "height":420
      }
     },
     "output_type":"display_data"
    },
    {
     "data":{
      "text\/plain":[
       "Plot with title \"Histogram of xsampler2\""
      ]
     },
     "metadata":{
      
     },
     "output_type":"display_data"
    }
   ],
   "metadata":{
    "datalore":{
     "node_id":"rBuyGw3RGRzlRPm1Lwu7Wa",
     "type":"CODE",
     "hide_input_from_viewers":false,
     "hide_output_from_viewers":false,
     "report_properties":{
      "rowId":"BfeL4qZ9HPA78qgStZMnO6"
     }
    }
   }
  },
  {
   "cell_type":"markdown",
   "source":[
    "Así es como lo hice:"
   ],
   "attachments":{
    
   },
   "metadata":{
    "datalore":{
     "node_id":"ssQnlNzPlKmv67InTZvMHF",
     "type":"MD",
     "hide_input_from_viewers":false,
     "hide_output_from_viewers":false,
     "report_properties":{
      "rowId":"1m1y0qy2QYYsaUpvv4lyLp"
     }
    }
   }
  },
  {
   "cell_type":"code",
   "source":[
    "#Así es como lo había hecho\n",
    "set.seed(12345)\n",
    "xsample1 <- dbinom(0:10000,10000,p1)  #Muestra que las probabilidades de que haya desde 0 a 10k contagios.\n",
    "barplot(xsample1, xlim=c(50,130), ylim=c(0,0.05), xpd=FALSE, names.arg=seq(0,10000,1),col=\"cyan\") #Los límites fueron comprobados previamente.\n",
    "text(x=99, y=0.042, expression(p == 162\/21728), cex=1.5, pos=4)\n",
    "grid()\n",
    "xsample2 <- dbinom(0:10000,10000,p2)\n",
    "barplot(xsample2, xlim=c(0,20.5), ylim=c(0,0.25), xpd=FALSE, names.arg=seq(0,10000,1),col=\"cyan\")\n",
    "text(x=12, y=0.21, expression(p == 8\/21720), cex=1.5, pos=4)\n",
    "grid()\n",
    "\n",
    "cat(\"Se observa que en el caso con probabilidad p1=162\/21728=\", p1,\"la distribución es como una normal centrada en\" ,10000*p1,\".\n",
    "Esto corresponde a la muestra de personas no vacunadas.\",\"\\n\")\n",
    "cat(\"Para la muestra de personas vacunadas, con probabilidad p2=8\/21720=\", p2,\", la distribución no es simétrica, \n",
    "y las cantidades de positivos más probables se sitúan en valores mucho más bajos, está centrada en\", 10000*p2, \".\",\"\\n\")"
   ],
   "execution_count":null,
   "outputs":[
    {
     "name":"stdout",
     "text":[
      "\n",
      "Se observa que en el caso con probabilidad p1=162\/21728= 0.007455817 la distribución es como una normal centrada en 74.55817 .\n",
      "Esto corresponde a la muestra de personas no vacunadas. \n",
      "Para la muestra de personas vacunadas, con probabilidad p2=8\/21720= 0.0003683241 , la distribución no es simétrica, \n",
      "y las cantidades de positivos más probables se sitúan en valores mucho más bajos, está centrada en 3.683241 . \n",
      "\n"
     ],
     "output_type":"stream"
    },
    {
     "name":"stderr",
     "text":[
      "\n",
      "\n"
     ],
     "output_type":"stream"
    },
    {
     "data":{
      "image\/png":"[encoded data removed]"
     },
     "metadata":{
      "image\/png":{
       "width":420,
       "height":420
      }
     },
     "output_type":"display_data"
    },
    {
     "data":{
      "text\/plain":[
       "plot without title"
      ]
     },
     "metadata":{
      
     },
     "output_type":"display_data"
    },
    {
     "data":{
      "image\/png":"[encoded data removed]"
     },
     "metadata":{
      "image\/png":{
       "width":420,
       "height":420
      }
     },
     "output_type":"display_data"
    },
    {
     "data":{
      "text\/plain":[
       "plot without title"
      ]
     },
     "metadata":{
      
     },
     "output_type":"display_data"
    }
   ],
   "metadata":{
    "datalore":{
     "node_id":"RpfQbGxooZrbqzBKQx7QAW",
     "type":"CODE",
     "hide_input_from_viewers":false,
     "hide_output_from_viewers":false,
     "report_properties":{
      "rowId":"qny0BgUv6EJF3Ih2giG41Y"
     }
    }
   }
  },
  {
   "cell_type":"code",
   "source":[
    
   ],
   "execution_count":null,
   "outputs":[
    
   ],
   "metadata":{
    "datalore":{
     "node_id":"bPwhLye0t7uyNYQRczUZ4n",
     "type":"CODE",
     "hide_input_from_viewers":false,
     "hide_output_from_viewers":false,
     "report_properties":{
      "rowId":"ejefGQWGnzYqb46sKM1Zcr"
     }
    }
   }
  }
 ],
 "metadata":{
  "kernelspec":{
   "display_name":"R",
   "language":"r",
   "name":"ir"
  },
  "datalore":{
   "computation_mode":"JUPYTER",
   "package_manager":"pip",
   "base_environment":"default",
   "packages":[
    
   ],
   "report_row_ids":[
    "4uLexgg3pAkqj8DaOfiKfk",
    "EHtnztWs563Ym8KXStmubH",
    "bTBau6Vhp7NMttGzbg1H7d",
    "JILstZwdOoNVV4RT6XGjM4",
    "dNP1atN8xFgFCzoLyRFsVO",
    "eyVpbsS8VhH9puMXzTaJYp",
    "Zhy5xTomwQsixY724IeNl5",
    "Kz54lDzHeUd2JzmEPSTDSS",
    "iL1Uv10WzRMzgZODowSIt7",
    "wsGAEGtVLEnqtDW3cza1hi",
    "qwnseS1uIMTv2ZomlmBc9B",
    "gzq6DRs3bZfIHWJNuoDkLS",
    "GZMxVe2sSq8CjOniXd0eig",
    "GeeBXZmEe3sSt69y1bBVjx",
    "1KKbfxEl9FhDPUDzxDV8Uo",
    "VhLv9N1SSN3vlEBgywdWKO",
    "Ha0jBroeCyWvzZSlE8eaIk",
    "eg5kZnOev39SB9tKBzK4QT",
    "tNv0zVQmZO5EYxZWHDoLW9",
    "LAG0KfcCeN3g2jhtMhopNn",
    "uUk7ay55KUA2ESjyQ9q97W",
    "BfeL4qZ9HPA78qgStZMnO6",
    "1m1y0qy2QYYsaUpvv4lyLp",
    "qny0BgUv6EJF3Ih2giG41Y"
   ],
   "version":3
  }
 },
 "nbformat":4,
 "nbformat_minor":4
}